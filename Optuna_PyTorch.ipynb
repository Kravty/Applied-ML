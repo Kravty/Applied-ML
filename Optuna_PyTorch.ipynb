{
  "nbformat": 4,
  "nbformat_minor": 0,
  "metadata": {
    "colab": {
      "provenance": [],
      "gpuType": "T4",
      "authorship_tag": "ABX9TyN8xRQrhMwfRkXBxL1XkfzB",
      "include_colab_link": true
    },
    "kernelspec": {
      "name": "python3",
      "display_name": "Python 3"
    },
    "language_info": {
      "name": "python"
    },
    "accelerator": "GPU",
    "widgets": {
      "application/vnd.jupyter.widget-state+json": {
        "ba1f25b584164f06b6a8ad1f31171b8a": {
          "model_module": "@jupyter-widgets/controls",
          "model_name": "HBoxModel",
          "model_module_version": "1.5.0",
          "state": {
            "_dom_classes": [],
            "_model_module": "@jupyter-widgets/controls",
            "_model_module_version": "1.5.0",
            "_model_name": "HBoxModel",
            "_view_count": null,
            "_view_module": "@jupyter-widgets/controls",
            "_view_module_version": "1.5.0",
            "_view_name": "HBoxView",
            "box_style": "",
            "children": [
              "IPY_MODEL_bb2540e49e204af1a781eab4419d817b",
              "IPY_MODEL_6c592c9ea82741aa92a121b6cba97b83",
              "IPY_MODEL_6c3fdc01e3f54ee9895f43bc4076fc6b"
            ],
            "layout": "IPY_MODEL_ef47c15aa0c347878f8468799be74943"
          }
        },
        "bb2540e49e204af1a781eab4419d817b": {
          "model_module": "@jupyter-widgets/controls",
          "model_name": "HTMLModel",
          "model_module_version": "1.5.0",
          "state": {
            "_dom_classes": [],
            "_model_module": "@jupyter-widgets/controls",
            "_model_module_version": "1.5.0",
            "_model_name": "HTMLModel",
            "_view_count": null,
            "_view_module": "@jupyter-widgets/controls",
            "_view_module_version": "1.5.0",
            "_view_name": "HTMLView",
            "description": "",
            "description_tooltip": null,
            "layout": "IPY_MODEL_314c1d3fbb8443689644dbca64a103e3",
            "placeholder": "​",
            "style": "IPY_MODEL_4bbfc4c437374fc5a86ecc6b12c76713",
            "value": "Best trial: 0. Best value: 0.8009: 100%"
          }
        },
        "6c592c9ea82741aa92a121b6cba97b83": {
          "model_module": "@jupyter-widgets/controls",
          "model_name": "FloatProgressModel",
          "model_module_version": "1.5.0",
          "state": {
            "_dom_classes": [],
            "_model_module": "@jupyter-widgets/controls",
            "_model_module_version": "1.5.0",
            "_model_name": "FloatProgressModel",
            "_view_count": null,
            "_view_module": "@jupyter-widgets/controls",
            "_view_module_version": "1.5.0",
            "_view_name": "ProgressView",
            "bar_style": "success",
            "description": "",
            "description_tooltip": null,
            "layout": "IPY_MODEL_5bfd69fde1774a2485702e1132e806da",
            "max": 20,
            "min": 0,
            "orientation": "horizontal",
            "style": "IPY_MODEL_ae10a6a7d0634260b985adc6fe62e10e",
            "value": 20
          }
        },
        "6c3fdc01e3f54ee9895f43bc4076fc6b": {
          "model_module": "@jupyter-widgets/controls",
          "model_name": "HTMLModel",
          "model_module_version": "1.5.0",
          "state": {
            "_dom_classes": [],
            "_model_module": "@jupyter-widgets/controls",
            "_model_module_version": "1.5.0",
            "_model_name": "HTMLModel",
            "_view_count": null,
            "_view_module": "@jupyter-widgets/controls",
            "_view_module_version": "1.5.0",
            "_view_name": "HTMLView",
            "description": "",
            "description_tooltip": null,
            "layout": "IPY_MODEL_37548fc1f96b4e349cf853f072387cfc",
            "placeholder": "​",
            "style": "IPY_MODEL_b704028df68346a9ad2f95787d780789",
            "value": " 20/20 [2:19:54&lt;00:00, 44.16s/it]"
          }
        },
        "ef47c15aa0c347878f8468799be74943": {
          "model_module": "@jupyter-widgets/base",
          "model_name": "LayoutModel",
          "model_module_version": "1.2.0",
          "state": {
            "_model_module": "@jupyter-widgets/base",
            "_model_module_version": "1.2.0",
            "_model_name": "LayoutModel",
            "_view_count": null,
            "_view_module": "@jupyter-widgets/base",
            "_view_module_version": "1.2.0",
            "_view_name": "LayoutView",
            "align_content": null,
            "align_items": null,
            "align_self": null,
            "border": null,
            "bottom": null,
            "display": null,
            "flex": null,
            "flex_flow": null,
            "grid_area": null,
            "grid_auto_columns": null,
            "grid_auto_flow": null,
            "grid_auto_rows": null,
            "grid_column": null,
            "grid_gap": null,
            "grid_row": null,
            "grid_template_areas": null,
            "grid_template_columns": null,
            "grid_template_rows": null,
            "height": null,
            "justify_content": null,
            "justify_items": null,
            "left": null,
            "margin": null,
            "max_height": null,
            "max_width": null,
            "min_height": null,
            "min_width": null,
            "object_fit": null,
            "object_position": null,
            "order": null,
            "overflow": null,
            "overflow_x": null,
            "overflow_y": null,
            "padding": null,
            "right": null,
            "top": null,
            "visibility": null,
            "width": null
          }
        },
        "314c1d3fbb8443689644dbca64a103e3": {
          "model_module": "@jupyter-widgets/base",
          "model_name": "LayoutModel",
          "model_module_version": "1.2.0",
          "state": {
            "_model_module": "@jupyter-widgets/base",
            "_model_module_version": "1.2.0",
            "_model_name": "LayoutModel",
            "_view_count": null,
            "_view_module": "@jupyter-widgets/base",
            "_view_module_version": "1.2.0",
            "_view_name": "LayoutView",
            "align_content": null,
            "align_items": null,
            "align_self": null,
            "border": null,
            "bottom": null,
            "display": null,
            "flex": null,
            "flex_flow": null,
            "grid_area": null,
            "grid_auto_columns": null,
            "grid_auto_flow": null,
            "grid_auto_rows": null,
            "grid_column": null,
            "grid_gap": null,
            "grid_row": null,
            "grid_template_areas": null,
            "grid_template_columns": null,
            "grid_template_rows": null,
            "height": null,
            "justify_content": null,
            "justify_items": null,
            "left": null,
            "margin": null,
            "max_height": null,
            "max_width": null,
            "min_height": null,
            "min_width": null,
            "object_fit": null,
            "object_position": null,
            "order": null,
            "overflow": null,
            "overflow_x": null,
            "overflow_y": null,
            "padding": null,
            "right": null,
            "top": null,
            "visibility": null,
            "width": null
          }
        },
        "4bbfc4c437374fc5a86ecc6b12c76713": {
          "model_module": "@jupyter-widgets/controls",
          "model_name": "DescriptionStyleModel",
          "model_module_version": "1.5.0",
          "state": {
            "_model_module": "@jupyter-widgets/controls",
            "_model_module_version": "1.5.0",
            "_model_name": "DescriptionStyleModel",
            "_view_count": null,
            "_view_module": "@jupyter-widgets/base",
            "_view_module_version": "1.2.0",
            "_view_name": "StyleView",
            "description_width": ""
          }
        },
        "5bfd69fde1774a2485702e1132e806da": {
          "model_module": "@jupyter-widgets/base",
          "model_name": "LayoutModel",
          "model_module_version": "1.2.0",
          "state": {
            "_model_module": "@jupyter-widgets/base",
            "_model_module_version": "1.2.0",
            "_model_name": "LayoutModel",
            "_view_count": null,
            "_view_module": "@jupyter-widgets/base",
            "_view_module_version": "1.2.0",
            "_view_name": "LayoutView",
            "align_content": null,
            "align_items": null,
            "align_self": null,
            "border": null,
            "bottom": null,
            "display": null,
            "flex": null,
            "flex_flow": null,
            "grid_area": null,
            "grid_auto_columns": null,
            "grid_auto_flow": null,
            "grid_auto_rows": null,
            "grid_column": null,
            "grid_gap": null,
            "grid_row": null,
            "grid_template_areas": null,
            "grid_template_columns": null,
            "grid_template_rows": null,
            "height": null,
            "justify_content": null,
            "justify_items": null,
            "left": null,
            "margin": null,
            "max_height": null,
            "max_width": null,
            "min_height": null,
            "min_width": null,
            "object_fit": null,
            "object_position": null,
            "order": null,
            "overflow": null,
            "overflow_x": null,
            "overflow_y": null,
            "padding": null,
            "right": null,
            "top": null,
            "visibility": null,
            "width": null
          }
        },
        "ae10a6a7d0634260b985adc6fe62e10e": {
          "model_module": "@jupyter-widgets/controls",
          "model_name": "ProgressStyleModel",
          "model_module_version": "1.5.0",
          "state": {
            "_model_module": "@jupyter-widgets/controls",
            "_model_module_version": "1.5.0",
            "_model_name": "ProgressStyleModel",
            "_view_count": null,
            "_view_module": "@jupyter-widgets/base",
            "_view_module_version": "1.2.0",
            "_view_name": "StyleView",
            "bar_color": null,
            "description_width": ""
          }
        },
        "37548fc1f96b4e349cf853f072387cfc": {
          "model_module": "@jupyter-widgets/base",
          "model_name": "LayoutModel",
          "model_module_version": "1.2.0",
          "state": {
            "_model_module": "@jupyter-widgets/base",
            "_model_module_version": "1.2.0",
            "_model_name": "LayoutModel",
            "_view_count": null,
            "_view_module": "@jupyter-widgets/base",
            "_view_module_version": "1.2.0",
            "_view_name": "LayoutView",
            "align_content": null,
            "align_items": null,
            "align_self": null,
            "border": null,
            "bottom": null,
            "display": null,
            "flex": null,
            "flex_flow": null,
            "grid_area": null,
            "grid_auto_columns": null,
            "grid_auto_flow": null,
            "grid_auto_rows": null,
            "grid_column": null,
            "grid_gap": null,
            "grid_row": null,
            "grid_template_areas": null,
            "grid_template_columns": null,
            "grid_template_rows": null,
            "height": null,
            "justify_content": null,
            "justify_items": null,
            "left": null,
            "margin": null,
            "max_height": null,
            "max_width": null,
            "min_height": null,
            "min_width": null,
            "object_fit": null,
            "object_position": null,
            "order": null,
            "overflow": null,
            "overflow_x": null,
            "overflow_y": null,
            "padding": null,
            "right": null,
            "top": null,
            "visibility": null,
            "width": null
          }
        },
        "b704028df68346a9ad2f95787d780789": {
          "model_module": "@jupyter-widgets/controls",
          "model_name": "DescriptionStyleModel",
          "model_module_version": "1.5.0",
          "state": {
            "_model_module": "@jupyter-widgets/controls",
            "_model_module_version": "1.5.0",
            "_model_name": "DescriptionStyleModel",
            "_view_count": null,
            "_view_module": "@jupyter-widgets/base",
            "_view_module_version": "1.2.0",
            "_view_name": "StyleView",
            "description_width": ""
          }
        }
      }
    }
  },
  "cells": [
    {
      "cell_type": "markdown",
      "metadata": {
        "id": "view-in-github",
        "colab_type": "text"
      },
      "source": [
        "<a href=\"https://colab.research.google.com/github/Kravty/Applied-ML/blob/main/Optuna_PyTorch.ipynb\" target=\"_parent\"><img src=\"https://colab.research.google.com/assets/colab-badge.svg\" alt=\"Open In Colab\"/></a>"
      ]
    },
    {
      "cell_type": "markdown",
      "source": [
        "## Optuna - what is it?"
      ],
      "metadata": {
        "id": "45vgw88gZ67n"
      }
    },
    {
      "cell_type": "markdown",
      "source": [
        "[Optuna](https://optuna.org) is a library that enables automatic hyperparameter tuning. Optuna is using something called Bayesian Optimisation underneath.\n",
        "\n",
        "Bayesian Optimisation is used when we have some black box (for example function we don't know yet), which is costly (or time-consuming) to evaluate, and the goal is to find its optimal solution while being data efficient. By data efficient, I mean how many queries we ask the black box. An example application can be hyperparameter tuning of Deep Learning models when each training run is time-consuming and costly."
      ],
      "metadata": {
        "id": "b-DwOxQZ9q2L"
      }
    },
    {
      "cell_type": "markdown",
      "source": [
        "Using Bayesian Optimization for hyperparameters tuning has this advantage over grid search and random search that based on the provious run history the next attempts are more likely to be close to previous the best ones. In the case of grid search and random search, trials are independent thus trials history is not used. Let's take a look at the exemplary function where random search and Optuna were used to find the minimum."
      ],
      "metadata": {
        "id": "010OOpry-voO"
      }
    },
    {
      "cell_type": "markdown",
      "source": [
        "![obraz.png](data:image/png;base64,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)\n",
        "[Plots taken from Optuna tutorial](https://optuna.readthedocs.io/en/stable/tutorial/index.html)"
      ],
      "metadata": {
        "id": "DHnZSBdlKWIw"
      }
    },
    {
      "cell_type": "markdown",
      "source": [
        "Based on the plots, Optuna is sampling more frequently close to optimal values based on the history of previous trials. Moreover, Optuna has an additional pruning ability that prunes not promising trials in the early stage to not waste computational resources on the full run on bad hyperparameters choice."
      ],
      "metadata": {
        "id": "lQaSJN6GNsZd"
      }
    },
    {
      "cell_type": "markdown",
      "source": [
        "### Optuna vs Grid Search"
      ],
      "metadata": {
        "id": "T3qk3pv7aDcQ"
      }
    },
    {
      "cell_type": "markdown",
      "source": [
        "Let's check empirically how Optuna compares to Grid Search"
      ],
      "metadata": {
        "id": "GGGWe_zWZsEk"
      }
    },
    {
      "cell_type": "code",
      "source": [
        "!pip install optuna"
      ],
      "metadata": {
        "colab": {
          "base_uri": "https://localhost:8080/"
        },
        "id": "jkaGpTU--vMa",
        "outputId": "e21805a5-bd61-4708-8451-628de4f2c92d"
      },
      "execution_count": null,
      "outputs": [
        {
          "output_type": "stream",
          "name": "stdout",
          "text": [
            "Looking in indexes: https://pypi.org/simple, https://us-python.pkg.dev/colab-wheels/public/simple/\n",
            "Collecting optuna\n",
            "  Downloading optuna-3.2.0-py3-none-any.whl (390 kB)\n",
            "\u001b[2K     \u001b[90m━━━━━━━━━━━━━━━━━━━━━━━━━━━━━━━━━━━━━━\u001b[0m \u001b[32m390.6/390.6 kB\u001b[0m \u001b[31m26.9 MB/s\u001b[0m eta \u001b[36m0:00:00\u001b[0m\n",
            "\u001b[?25hCollecting alembic>=1.5.0 (from optuna)\n",
            "  Downloading alembic-1.11.1-py3-none-any.whl (224 kB)\n",
            "\u001b[2K     \u001b[90m━━━━━━━━━━━━━━━━━━━━━━━━━━━━━━━━━━━━━━\u001b[0m \u001b[32m224.5/224.5 kB\u001b[0m \u001b[31m30.5 MB/s\u001b[0m eta \u001b[36m0:00:00\u001b[0m\n",
            "\u001b[?25hCollecting cmaes>=0.9.1 (from optuna)\n",
            "  Downloading cmaes-0.9.1-py3-none-any.whl (21 kB)\n",
            "Collecting colorlog (from optuna)\n",
            "  Downloading colorlog-6.7.0-py2.py3-none-any.whl (11 kB)\n",
            "Requirement already satisfied: numpy in /usr/local/lib/python3.10/dist-packages (from optuna) (1.22.4)\n",
            "Requirement already satisfied: packaging>=20.0 in /usr/local/lib/python3.10/dist-packages (from optuna) (23.1)\n",
            "Requirement already satisfied: sqlalchemy>=1.3.0 in /usr/local/lib/python3.10/dist-packages (from optuna) (2.0.10)\n",
            "Requirement already satisfied: tqdm in /usr/local/lib/python3.10/dist-packages (from optuna) (4.65.0)\n",
            "Requirement already satisfied: PyYAML in /usr/local/lib/python3.10/dist-packages (from optuna) (6.0)\n",
            "Collecting Mako (from alembic>=1.5.0->optuna)\n",
            "  Downloading Mako-1.2.4-py3-none-any.whl (78 kB)\n",
            "\u001b[2K     \u001b[90m━━━━━━━━━━━━━━━━━━━━━━━━━━━━━━━━━━━━━━━━\u001b[0m \u001b[32m78.7/78.7 kB\u001b[0m \u001b[31m12.4 MB/s\u001b[0m eta \u001b[36m0:00:00\u001b[0m\n",
            "\u001b[?25hRequirement already satisfied: typing-extensions>=4 in /usr/local/lib/python3.10/dist-packages (from alembic>=1.5.0->optuna) (4.5.0)\n",
            "Requirement already satisfied: greenlet!=0.4.17 in /usr/local/lib/python3.10/dist-packages (from sqlalchemy>=1.3.0->optuna) (2.0.2)\n",
            "Requirement already satisfied: MarkupSafe>=0.9.2 in /usr/local/lib/python3.10/dist-packages (from Mako->alembic>=1.5.0->optuna) (2.1.2)\n",
            "Installing collected packages: Mako, colorlog, cmaes, alembic, optuna\n",
            "Successfully installed Mako-1.2.4 alembic-1.11.1 cmaes-0.9.1 colorlog-6.7.0 optuna-3.2.0\n"
          ]
        }
      ]
    },
    {
      "cell_type": "code",
      "source": [
        "%matplotlib inline\n",
        "import matplotlib.pyplot as plt\n",
        "import numpy as np\n",
        "import optuna\n",
        "from optuna.trial import TrialState\n",
        "import matplotlib.pyplot as plt\n",
        "import seaborn as sns\n",
        "import numpy as np\n",
        "import pandas as pd\n",
        "import copy\n",
        "from tqdm import tqdm\n",
        "import torch\n",
        "import torch.optim as optim\n",
        "import torch.backends.cudnn as cudnn\n",
        "from torch.utils.data import Dataset, DataLoader\n",
        "import torchvision\n",
        "from torchvision import transforms\n",
        "import torch.nn as nn\n",
        "import torch.nn.functional as F"
      ],
      "metadata": {
        "id": "C1zz2IYtAsDV"
      },
      "execution_count": null,
      "outputs": []
    },
    {
      "cell_type": "markdown",
      "source": [
        "Let's assume we want to find minimum value of one full cycle of sinus function:\n",
        "<br>\n",
        "$f(x)= sin(\\frac{x}{2\\pi})$\n",
        "<br>\n",
        "The expected result is -1."
      ],
      "metadata": {
        "id": "fFUPoottDdqO"
      }
    },
    {
      "cell_type": "code",
      "source": [
        "function_range = 40\n",
        "x = np.linspace(0, function_range, function_range * 10)\n",
        "def f(x):\n",
        "  return np.sin(x / (2 * np.pi))\n",
        "y = f(x)\n",
        "plt.plot(x, y, color='gray');\n",
        "print('Minimum value is', round(y.min(), 4))"
      ],
      "metadata": {
        "colab": {
          "base_uri": "https://localhost:8080/",
          "height": 448
        },
        "id": "zY_AZBt_BBt1",
        "outputId": "dd09db79-b386-47b0-b78f-7f0caef6c2ac"
      },
      "execution_count": null,
      "outputs": [
        {
          "output_type": "stream",
          "name": "stdout",
          "text": [
            "Minimum value is -1.0\n"
          ]
        },
        {
          "output_type": "display_data",
          "data": {
            "text/plain": [
              "<Figure size 640x480 with 1 Axes>"
            ],
            "image/png": "[encoded data removed]"
          },
          "metadata": {}
        }
      ]
    },
    {
      "cell_type": "markdown",
      "source": [
        "Let's start with grid search"
      ],
      "metadata": {
        "id": "2yxbnZgOFOb8"
      }
    },
    {
      "cell_type": "code",
      "source": [
        "number_of_trials = 30\n",
        "# take 30 evenly spaced samples (x) from given function range\n",
        "grid_search_preds = np.linspace(0, function_range, number_of_trials)\n",
        "# sort preds to plot it later\n",
        "grid_search_preds = np.sort(grid_search_preds)\n",
        "# calculate function values (f(x)) for this samples\n",
        "grid_search_values = f(grid_search_preds)\n",
        "# get minimal value as best prediction\n",
        "grid_search_min_predicted_value = round(grid_search_values.min(), 4)\n",
        "print('Minimum value of function for grid search', grid_search_min_predicted_value)\n",
        "print(f'Error percentage: {round(100 * (-1 - grid_search_min_predicted_value), 2)}%')"
      ],
      "metadata": {
        "colab": {
          "base_uri": "https://localhost:8080/"
        },
        "id": "De31Kr1jSb0j",
        "outputId": "10179344-b65d-41cf-fbf7-410896c29ca1"
      },
      "execution_count": null,
      "outputs": [
        {
          "output_type": "stream",
          "name": "stdout",
          "text": [
            "Minimum value of function for grid search -0.9948\n",
            "Error percentage: -0.52%\n"
          ]
        }
      ]
    },
    {
      "cell_type": "markdown",
      "source": [
        "Grid search had 0.52% error. Now let's give a try Optuna"
      ],
      "metadata": {
        "id": "-rXuNWRvS4c0"
      }
    },
    {
      "cell_type": "code",
      "source": [
        "# Optuna is black-box optimalizator thus we have to define its objective\n",
        "def objective(trial):\n",
        "    x = trial.suggest_uniform('x', 0, function_range)\n",
        "    return f(x)\n",
        "\n",
        "study = optuna.create_study(direction='minimize')\n",
        "# again we are going to take 30 samples (x) but now not evenly spaced but values based on Bayesian Optimization\n",
        "study.optimize(objective, n_trials=number_of_trials)"
      ],
      "metadata": {
        "colab": {
          "base_uri": "https://localhost:8080/"
        },
        "id": "zMW2rNiZS3_I",
        "outputId": "b7743d19-7455-40d9-96bb-b128d95bdbe8"
      },
      "execution_count": null,
      "outputs": [
        {
          "output_type": "stream",
          "name": "stderr",
          "text": [
            "[I 2023-06-08 15:09:59,507] A new study created in memory with name: no-name-d4848657-04e8-4606-af5f-12eaf72b574d\n",
            "<ipython-input-5-a7a1c45e7a2b>:3: FutureWarning: suggest_uniform has been deprecated in v3.0.0. This feature will be removed in v6.0.0. See https://github.com/optuna/optuna/releases/tag/v3.0.0. Use suggest_float instead.\n",
            "  x = trial.suggest_uniform('x', 0, function_range)\n",
            "[I 2023-06-08 15:09:59,514] Trial 0 finished with value: 0.15456440758477774 and parameters: {'x': 0.9750658344871876}. Best is trial 0 with value: 0.15456440758477774.\n",
            "[I 2023-06-08 15:09:59,516] Trial 1 finished with value: -0.5901802225911273 and parameters: {'x': 35.511955367370916}. Best is trial 1 with value: -0.5901802225911273.\n",
            "[I 2023-06-08 15:09:59,518] Trial 2 finished with value: -0.6240462090809309 and parameters: {'x': 35.24411431253498}. Best is trial 2 with value: -0.6240462090809309.\n",
            "[I 2023-06-08 15:09:59,521] Trial 3 finished with value: 0.7626403979249414 and parameters: {'x': 5.449943540877338}. Best is trial 2 with value: -0.6240462090809309.\n",
            "[I 2023-06-08 15:09:59,524] Trial 4 finished with value: -0.4690676575038559 and parameters: {'x': 22.806878493433153}. Best is trial 2 with value: -0.6240462090809309.\n",
            "[I 2023-06-08 15:09:59,527] Trial 5 finished with value: 0.03196058723780859 and parameters: {'x': 39.6792661001584}. Best is trial 2 with value: -0.6240462090809309.\n",
            "[I 2023-06-08 15:09:59,530] Trial 6 finished with value: 0.10182929601154715 and parameters: {'x': 19.098285549830795}. Best is trial 2 with value: -0.6240462090809309.\n",
            "[I 2023-06-08 15:09:59,532] Trial 7 finished with value: 0.7243885881105029 and parameters: {'x': 5.090304322175596}. Best is trial 2 with value: -0.6240462090809309.\n",
            "[I 2023-06-08 15:09:59,534] Trial 8 finished with value: -0.08191124725682013 and parameters: {'x': 20.2544496104719}. Best is trial 2 with value: -0.6240462090809309.\n",
            "[I 2023-06-08 15:09:59,536] Trial 9 finished with value: -0.9913460547869073 and parameters: {'x': 30.436022928641528}. Best is trial 9 with value: -0.9913460547869073.\n",
            "[I 2023-06-08 15:09:59,547] Trial 10 finished with value: -0.9861732873770169 and parameters: {'x': 28.56275460598325}. Best is trial 9 with value: -0.9913460547869073.\n",
            "[I 2023-06-08 15:09:59,556] Trial 11 finished with value: -0.9467811181175175 and parameters: {'x': 27.54973487663168}. Best is trial 9 with value: -0.9913460547869073.\n",
            "[I 2023-06-08 15:09:59,565] Trial 12 finished with value: -0.9640113183089796 and parameters: {'x': 27.91802585677309}. Best is trial 9 with value: -0.9913460547869073.\n",
            "[I 2023-06-08 15:09:59,575] Trial 13 finished with value: -0.9999943271257976 and parameters: {'x': 29.587649257108364}. Best is trial 13 with value: -0.9999943271257976.\n",
            "[I 2023-06-08 15:09:59,584] Trial 14 finished with value: -0.9292163048354972 and parameters: {'x': 31.9870611837285}. Best is trial 13 with value: -0.9999943271257976.\n",
            "[I 2023-06-08 15:09:59,594] Trial 15 finished with value: -0.01838173614020648 and parameters: {'x': 39.36291524481684}. Best is trial 13 with value: -0.9999943271257976.\n",
            "[I 2023-06-08 15:09:59,603] Trial 16 finished with value: -0.6047475354705626 and parameters: {'x': 23.819816141845227}. Best is trial 13 with value: -0.9999943271257976.\n",
            "[I 2023-06-08 15:09:59,612] Trial 17 finished with value: 0.6362029258318328 and parameters: {'x': 15.40653357266604}. Best is trial 13 with value: -0.9999943271257976.\n",
            "[I 2023-06-08 15:09:59,622] Trial 18 finished with value: -0.8834627911662838 and parameters: {'x': 32.67245449267311}. Best is trial 13 with value: -0.9999943271257976.\n",
            "[I 2023-06-08 15:09:59,631] Trial 19 finished with value: -0.9801903933594712 and parameters: {'x': 30.861528393718906}. Best is trial 13 with value: -0.9999943271257976.\n",
            "[I 2023-06-08 15:09:59,640] Trial 20 finished with value: -0.7325366915925986 and parameters: {'x': 24.904244478754634}. Best is trial 13 with value: -0.9999943271257976.\n",
            "[I 2023-06-08 15:09:59,649] Trial 21 finished with value: -0.9569648736636975 and parameters: {'x': 27.758793573370507}. Best is trial 13 with value: -0.9999943271257976.\n",
            "[I 2023-06-08 15:09:59,658] Trial 22 finished with value: -0.9969447409827132 and parameters: {'x': 29.117532711654242}. Best is trial 13 with value: -0.9999943271257976.\n",
            "[I 2023-06-08 15:09:59,669] Trial 23 finished with value: -0.5863964292132469 and parameters: {'x': 35.54135534796197}. Best is trial 13 with value: -0.9999943271257976.\n",
            "[I 2023-06-08 15:09:59,679] Trial 24 finished with value: -0.9970772036350072 and parameters: {'x': 30.089320494134263}. Best is trial 13 with value: -0.9999943271257976.\n",
            "[I 2023-06-08 15:09:59,688] Trial 25 finished with value: -0.8435916460738978 and parameters: {'x': 33.17049518645699}. Best is trial 13 with value: -0.9999943271257976.\n",
            "[I 2023-06-08 15:09:59,697] Trial 26 finished with value: -0.7089947769525059 and parameters: {'x': 24.690809767718736}. Best is trial 13 with value: -0.9999943271257976.\n",
            "[I 2023-06-08 15:09:59,707] Trial 27 finished with value: -0.9997535777080124 and parameters: {'x': 29.46932297619882}. Best is trial 13 with value: -0.9999943271257976.\n",
            "[I 2023-06-08 15:09:59,718] Trial 28 finished with value: -0.3874743811971219 and parameters: {'x': 36.97839866467146}. Best is trial 13 with value: -0.9999943271257976.\n",
            "[I 2023-06-08 15:09:59,728] Trial 29 finished with value: -0.8163658471657865 and parameters: {'x': 33.47740878681968}. Best is trial 13 with value: -0.9999943271257976.\n"
          ]
        }
      ]
    },
    {
      "cell_type": "code",
      "source": [
        "optuna_min_predicted_value = round(study.best_trial.value, 4)\n",
        "print('Minimum value of function for Optuna', optuna_min_predicted_value)\n",
        "print(f'Error percentage: {round(100 * (-1 - optuna_min_predicted_value), 2)}%')"
      ],
      "metadata": {
        "colab": {
          "base_uri": "https://localhost:8080/"
        },
        "id": "PWy7OVyvTIBz",
        "outputId": "cb9dd74b-139d-47e7-ead5-92991dc2871f"
      },
      "execution_count": null,
      "outputs": [
        {
          "output_type": "stream",
          "name": "stdout",
          "text": [
            "Minimum value of function for Optuna -1.0\n",
            "Error percentage: 0.0%\n"
          ]
        }
      ]
    },
    {
      "cell_type": "markdown",
      "source": [
        "Optuna found value closer to minimum than grid search. Error for Optuna was 0.0% compared to 0.52% by grid search for such a simple function. Let's visualize all prediction of grid search and Optuna trials."
      ],
      "metadata": {
        "id": "9bW8yZSXcKV3"
      }
    },
    {
      "cell_type": "code",
      "source": [
        "optuna_preds = study.trials_dataframe()['params_x'].to_numpy()\n",
        "# sort preds to plot it later\n",
        "optuna_preds = np.sort(optuna_preds)\n",
        "# calculate function values (f(x)) for this samples\n",
        "optuna_values = f(optuna_preds)"
      ],
      "metadata": {
        "id": "4pvNQNjxUG87"
      },
      "execution_count": null,
      "outputs": []
    },
    {
      "cell_type": "code",
      "source": [
        "# define grid and figure size\n",
        "len_rows = 1\n",
        "len_columns = 2\n",
        "fig, axs = plt.subplots(len_rows, len_columns, figsize=(8 * len_columns, 4 * len_rows))\n",
        "axs[0].plot(x, y, color='gray', label='Original function')\n",
        "axs[0].scatter(optuna_preds, optuna_values, marker='o', color='blue', label='Optuna preds')\n",
        "axs[0].set_title('Optuna minimum value predictions')\n",
        "axs[0].legend();\n",
        "axs[1].plot(x, y, color='gray', label='Original function')\n",
        "axs[1].set_title('Grid search minimum value predictions')\n",
        "axs[1].scatter(grid_search_preds, grid_search_values, marker=\"o\", color='red', label='Grid search preds')\n",
        "axs[1].legend();"
      ],
      "metadata": {
        "colab": {
          "base_uri": "https://localhost:8080/",
          "height": 379
        },
        "id": "XTIxHuZoadYX",
        "outputId": "7cbb3ebe-9b32-45f1-90eb-6ec94965f41a"
      },
      "execution_count": null,
      "outputs": [
        {
          "output_type": "display_data",
          "data": {
            "text/plain": [
              "<Figure size 1600x400 with 2 Axes>"
            ],
            "image/png": "[encoded data removed]"
          },
          "metadata": {}
        }
      ]
    },
    {
      "cell_type": "markdown",
      "source": [
        "### Other libraries for hyperparameter optimization"
      ],
      "metadata": {
        "id": "BTBe_Pohdi40"
      }
    },
    {
      "cell_type": "markdown",
      "source": [
        "Optuna is not the only tool used for hyperparameter optimization. Although it is one of the most commonly used by professionals. Other popular libraries are:\n",
        "* [Ray Tune](https://www.ray.io/ray-tune)\n",
        "* [HYPEROPT](https://github.com/hyperopt/hyperopt)\n",
        "* [Scikit-Optimize](https://scikit-optimize.github.io/stable/auto_examples/hyperparameter-optimization.html)\n",
        "\n",
        "There are also AutoML solutions from cloud providers such as AWS, Azure, and Google Cloud. If you are interested in other solutions than Optuna and their comparison I encourage you to take a look at this [blog post](https://neptune.ai/blog/best-tools-for-model-tuning-and-hyperparameter-optimization)."
      ],
      "metadata": {
        "id": "1P8iJluWP6Ga"
      }
    },
    {
      "cell_type": "markdown",
      "source": [
        "## Model hyperparameter tunining by optuna"
      ],
      "metadata": {
        "id": "_YTDFPg9dRcs"
      }
    },
    {
      "cell_type": "markdown",
      "source": [
        "### Loading dataset"
      ],
      "metadata": {
        "id": "nrdFwER8dtQ4"
      }
    },
    {
      "cell_type": "markdown",
      "source": [
        "Let's use relatively small and simple dataset to conduct many experiments having in mind Colab computational limitations. I wil use [CIFAR10 dataset](https://www.cs.toronto.edu/~kriz/cifar.html) for simplicity."
      ],
      "metadata": {
        "id": "II883X8zdyBr"
      }
    },
    {
      "cell_type": "code",
      "source": [
        "def get_dataset():\n",
        "    train_transforms = transforms.Compose([\n",
        "        transforms.RandomCrop(32, padding=4),\n",
        "        torchvision.transforms.RandomHorizontalFlip(p=0.5),\n",
        "        torchvision.transforms.RandomAffine(0, translate=(0.1, 0.1)),\n",
        "        transforms.ToTensor(),\n",
        "        ])\n",
        "\n",
        "    train_dataset = torchvision.datasets.CIFAR10(\n",
        "        root='.',\n",
        "        train=True,\n",
        "        transform=train_transforms,\n",
        "        download=True)\n",
        "    test_dataset = torchvision.datasets.CIFAR10(\n",
        "        root='.',\n",
        "        train=False,\n",
        "        transform=transforms.ToTensor(),\n",
        "        download=True)\n",
        "    return train_dataset, test_dataset"
      ],
      "metadata": {
        "id": "BsXy4DgxdZmP"
      },
      "execution_count": null,
      "outputs": []
    },
    {
      "cell_type": "markdown",
      "source": [
        "### Define model"
      ],
      "metadata": {
        "id": "avtA-mFQm5-r"
      }
    },
    {
      "cell_type": "code",
      "source": [
        "class SimpleCNN(nn.Module):\n",
        "  def __init__(self, output_classes):\n",
        "    super(SimpleCNN, self).__init__()\n",
        "\n",
        "    # Convolutional layers\n",
        "    self.conv1 = nn.Sequential(\n",
        "        nn.Conv2d(3, 32, kernel_size=3, padding=1),\n",
        "        nn.ReLU(),\n",
        "        nn.BatchNorm2d(32),\n",
        "        nn.Conv2d(32, 32, kernel_size=3, padding=1),\n",
        "        nn.ReLU(),\n",
        "        nn.BatchNorm2d(32),\n",
        "        nn.MaxPool2d(2)\n",
        "    )\n",
        "\n",
        "    self.conv2 = nn.Sequential(\n",
        "        nn.Conv2d(32, 64, kernel_size=3, padding=1),\n",
        "        nn.ReLU(),\n",
        "        nn.BatchNorm2d(64),\n",
        "        nn.Conv2d(64, 64, kernel_size=3, padding=1),\n",
        "        nn.ReLU(),\n",
        "        nn.BatchNorm2d(64),\n",
        "        nn.MaxPool2d(2)\n",
        "    )\n",
        "\n",
        "    # Dense layers\n",
        "    self.d1 = nn.Linear(64 * 4 * 4 * 4, 256)\n",
        "    self.d2 = nn.Linear(256, output_classes)\n",
        "\n",
        "  def forward(self, x):\n",
        "    x = self.conv1(x)\n",
        "    x = self.conv2(x)\n",
        "    x = x.view(x.size(0), -1)\n",
        "    x = F.dropout(x, p=0.5)\n",
        "    x = F.relu(self.d1(x))\n",
        "    x = F.dropout(x, p=0.2)\n",
        "    x = self.d2(x)\n",
        "    return x"
      ],
      "metadata": {
        "id": "gI4_JVtEm5f7"
      },
      "execution_count": null,
      "outputs": []
    },
    {
      "cell_type": "markdown",
      "source": [
        "### Train and test functions"
      ],
      "metadata": {
        "id": "0-NzqaeYvZI4"
      }
    },
    {
      "cell_type": "code",
      "source": [
        "def train(model, criterion, optimizer, train_loader, device):\n",
        "    model.train()\n",
        "    losses = []\n",
        "    for X, y in train_loader:\n",
        "        X = X.to(device)\n",
        "        y = y.to(device)\n",
        "        # use mixed precision to speed up training\n",
        "        with torch.autocast(device_type='cuda'):\n",
        "            outputs = model(X)\n",
        "            loss = criterion(outputs, y)\n",
        "            losses.append(loss.item())\n",
        "            optimizer.zero_grad()  # Zero the gradients accumulated by PyTorch\n",
        "            # Backward and optimize\n",
        "            loss.backward()\n",
        "            optimizer.step()\n",
        "\n",
        "    # Taking mean value of previous losses as loss per epoch\n",
        "    losses = np.mean(losses)\n",
        "\n",
        "    return losses"
      ],
      "metadata": {
        "id": "ARXe86baqQpg"
      },
      "execution_count": null,
      "outputs": []
    },
    {
      "cell_type": "code",
      "source": [
        "def test(model, criterion, test_loader, device):\n",
        "    model.eval()\n",
        "    losses = []\n",
        "    preds, gt = [], []  # will be used for accuracy and confusion matrix\n",
        "\n",
        "    with torch.no_grad():\n",
        "        for X, y in test_loader:\n",
        "            X = X.to(device)\n",
        "            y = y.to(device)\n",
        "            outputs = model(X)\n",
        "            loss = criterion(outputs, y)\n",
        "            losses.append(loss.item())\n",
        "            # save predictions and ground truths for evaluation\n",
        "            softmax_outputs = torch.nn.functional.softmax(input=outputs, dim=1)\n",
        "            softmax_vals, indices = softmax_outputs.max(1)\n",
        "            y = y.detach().cpu().numpy()\n",
        "            pred = indices.detach().cpu().numpy()\n",
        "            if len(preds) == 0:\n",
        "                preds.append(pred)\n",
        "                gt.append(y)\n",
        "            else:\n",
        "                preds[0] = np.append(preds[0], pred, axis=0)\n",
        "                gt[0] = np.append(gt[0], y, axis=0)\n",
        "\n",
        "    preds = np.concatenate(np.array(preds), axis=0)\n",
        "    gt = np.concatenate(np.array(gt), axis=0)\n",
        "    # taking mean value of previous losses as loss per epoch\n",
        "    losses = np.mean(losses)\n",
        "\n",
        "    return losses, preds, gt"
      ],
      "metadata": {
        "id": "rhEZj-9-qaFU"
      },
      "execution_count": null,
      "outputs": []
    },
    {
      "cell_type": "markdown",
      "source": [
        "Normally and in this case it is possible to use the objective function as earlier. However, I would like to show you the alternative way by creating a Class instead of a function. It has the advantage that we can use some extra parameters. Moreover, we can initialize some objects once and use them in each trial instead of reinitializing them. It is particullary usefull to init some computationally expensive or time-consuming operations for example preparation of the custom dataset when the dataset is big."
      ],
      "metadata": {
        "id": "Z-ZJlvlTysgX"
      }
    },
    {
      "cell_type": "code",
      "source": [
        "class Objective(object):\n",
        "    def __init__(self, num_epochs, batch_size, model_checkpoint_path):\n",
        "        self.num_epochs = num_epochs\n",
        "        self.batch_size = batch_size\n",
        "        self.model_checkpoint_path = model_checkpoint_path\n",
        "        # init best_val_metric with 0\n",
        "        self.best_val_metric = 0\n",
        "        # init dataset and data loaders\n",
        "        self.train_dataset, self.test_dataset = get_dataset()\n",
        "        self.train_loader = torch.utils.data.DataLoader(dataset=self.train_dataset,\n",
        "                                                   batch_size=batch_size,\n",
        "                                                   shuffle=True)\n",
        "        self.test_loader = torch.utils.data.DataLoader(dataset=self.test_dataset,\n",
        "                                                  batch_size=batch_size,\n",
        "                                                  shuffle=False)\n",
        "        # instantiate the model\n",
        "        self.model = SimpleCNN(output_classes=len(set(self.train_dataset.targets)))\n",
        "        # define device\n",
        "        self.device = torch.device(\"cuda:0\" if torch.cuda.is_available() else \"cpu\")\n",
        "        if self.device == torch.device(\"cuda\"):\n",
        "            cudnn.benchmark = True\n",
        "        self.model.to(self.device)\n",
        "        # it's multiclass classification so we are going to use Cross Entropy Loss\n",
        "        self.criterion = torch.nn.CrossEntropyLoss().to(self.device)\n",
        "\n",
        "    # use standard training loop with optuna in __call__ method\n",
        "    def __call__(self, trial):\n",
        "        # copy the model to train the model at the same starting point in each trial\n",
        "        model = copy.deepcopy(self.model)\n",
        "        # optuna parameterts\n",
        "        optuna_params = {}\n",
        "        lr = trial.suggest_float(\"lr\", 1e-4, 1e-2, log=True)\n",
        "        optimizer_name = trial.suggest_categorical(\"optimizer\", [\"Adam\", \"AdamW\", \"SGD\"])\n",
        "\n",
        "        optuna_params['lr'] = lr\n",
        "        optuna_params['optimizer_name'] = optimizer_name\n",
        "        print(f'Optuna current parameters: {[(key, value) for key, value in optuna_params.items()]}')\n",
        "        optimizer = getattr(optim, optimizer_name)(model.parameters(), lr=lr)\n",
        "\n",
        "        # set learning rate scheduler\n",
        "        scheduler = torch.optim.lr_scheduler.StepLR(\n",
        "            optimizer, step_size=int(self.num_epochs / 10), gamma=0.5)\n",
        "\n",
        "        epoch_iterator = tqdm(range(self.num_epochs),\n",
        "                              desc=\"Epoch X: train_loss=X, dev_loss=X, dev_acc=X\",\n",
        "                              bar_format=\"{l_bar}{r_bar}\", dynamic_ncols=True,\n",
        "                              disable=False)\n",
        "        for epoch in epoch_iterator:\n",
        "            train_loss = train(model, self.criterion, optimizer,\n",
        "                               self.train_loader, self.device)\n",
        "            test_loss, test_preds, test_gt = test(model, self.criterion,\n",
        "                                                  self.test_loader, self.device)\n",
        "            test_accuracy = (test_preds == test_gt).sum().item() / len(test_gt)\n",
        "\n",
        "            epoch_iterator.set_description(\n",
        "                f\"Epoch {epoch + 1}: train_loss={train_loss:.5f}, test_loss={test_loss:.5f}, test_acc={test_accuracy:.3f}\")\n",
        "\n",
        "            # save checkpoint if accuracy is the best achieved so far\n",
        "            if test_accuracy > self.best_val_metric:\n",
        "                model_state_dict = model.state_dict()\n",
        "                torch.save(\n",
        "                    dict(\n",
        "                        epoch=epoch + 1,\n",
        "                        state_dict=model_state_dict,\n",
        "                        optimizer_state_dict=optimizer.state_dict(),\n",
        "                    ),\n",
        "                    self.model_checkpoint_path)\n",
        "                self.best_val_metric = test_accuracy\n",
        "\n",
        "            # adjust learning rate\n",
        "            scheduler.step()\n",
        "\n",
        "            # optuna utils\n",
        "            trial.report(test_accuracy, epoch)\n",
        "            # Handle pruning based on the intermediate value.\n",
        "            if trial.should_prune():\n",
        "                raise optuna.exceptions.TrialPruned()\n",
        "\n",
        "        return test_accuracy"
      ],
      "metadata": {
        "id": "bo-NANtprhRR"
      },
      "execution_count": null,
      "outputs": []
    },
    {
      "cell_type": "code",
      "source": [
        "NUM_EPOCHS = 50\n",
        "BATCH_SIZE = 512\n",
        "MODEL_CHECKPOINT_PATH = 'best_model.pth'\n",
        "study = optuna.create_study(direction=\"maximize\")\n",
        "class_objective = Objective(num_epochs=NUM_EPOCHS, batch_size=BATCH_SIZE,\n",
        "                            model_checkpoint_path=MODEL_CHECKPOINT_PATH)\n",
        "study.optimize(class_objective, n_trials=20, show_progress_bar=True)\n",
        "\n",
        "pruned_trials = study.get_trials(deepcopy=False, states=[TrialState.PRUNED])\n",
        "complete_trials = study.get_trials(deepcopy=False, states=[TrialState.COMPLETE])\n",
        "\n",
        "print(\"--> Optuna study statistics <--\")\n",
        "print(\"Number of finished trials: \", len(study.trials))\n",
        "print(\"Number of pruned trials: \", len(pruned_trials))\n",
        "print(\"Number of complete trials: \", len(complete_trials))\n",
        "\n",
        "print(\"Best trial:\")\n",
        "trial = study.best_trial\n",
        "\n",
        "print(\"Value:\", trial.value)\n",
        "\n",
        "print(\"Params:\")\n",
        "for key, value in trial.params.items():\n",
        "    print(\"{}: {}\".format(key, value))"
      ],
      "metadata": {
        "colab": {
          "base_uri": "https://localhost:8080/",
          "height": 1000,
          "referenced_widgets": [
            "ba1f25b584164f06b6a8ad1f31171b8a",
            "bb2540e49e204af1a781eab4419d817b",
            "6c592c9ea82741aa92a121b6cba97b83",
            "6c3fdc01e3f54ee9895f43bc4076fc6b",
            "ef47c15aa0c347878f8468799be74943",
            "314c1d3fbb8443689644dbca64a103e3",
            "4bbfc4c437374fc5a86ecc6b12c76713",
            "5bfd69fde1774a2485702e1132e806da",
            "ae10a6a7d0634260b985adc6fe62e10e",
            "37548fc1f96b4e349cf853f072387cfc",
            "b704028df68346a9ad2f95787d780789"
          ]
        },
        "id": "pdaebSCMrrzp",
        "outputId": "77cb589c-21c8-441d-915b-828135b2c87a"
      },
      "execution_count": null,
      "outputs": [
        {
          "output_type": "stream",
          "name": "stderr",
          "text": [
            "[I 2023-06-08 15:10:00,986] A new study created in memory with name: no-name-77b4d1bb-7391-4f7a-92ec-efda62740805\n"
          ]
        },
        {
          "output_type": "stream",
          "name": "stdout",
          "text": [
            "Downloading https://www.cs.toronto.edu/~kriz/cifar-10-python.tar.gz to ./cifar-10-python.tar.gz\n"
          ]
        },
        {
          "output_type": "stream",
          "name": "stderr",
          "text": [
            "100%|██████████| 170498071/170498071 [00:13<00:00, 13021278.57it/s]\n"
          ]
        },
        {
          "output_type": "stream",
          "name": "stdout",
          "text": [
            "Extracting ./cifar-10-python.tar.gz to .\n",
            "Files already downloaded and verified\n"
          ]
        },
        {
          "output_type": "display_data",
          "data": {
            "text/plain": [
              "  0%|          | 0/20 [00:00<?, ?it/s]"
            ],
            "application/vnd.jupyter.widget-view+json": {
              "version_major": 2,
              "version_minor": 0,
              "model_id": "ba1f25b584164f06b6a8ad1f31171b8a"
            }
          },
          "metadata": {}
        },
        {
          "output_type": "stream",
          "name": "stdout",
          "text": [
            "Optuna current parameters: [('lr', 0.00304135145969802), ('optimizer_name', 'Adam')]\n"
          ]
        },
        {
          "output_type": "stream",
          "name": "stderr",
          "text": [
            "\n",
            "Epoch X: train_loss=X, dev_loss=X, dev_acc=X:   0%|| 0/50 [00:00<?, ?it/s]\u001b[A\n",
            "Epoch 1: train_loss=1.72462, test_loss=1.55039, test_acc=0.476:   0%|| 0/50 [00:31<?, ?it/s]\u001b[A\n",
            "Epoch 1: train_loss=1.72462, test_loss=1.55039, test_acc=0.476:   2%|| 1/50 [00:31<25:37, 31.37s/it]\u001b[A\n",
            "Epoch 2: train_loss=1.32414, test_loss=1.45341, test_acc=0.529:   2%|| 1/50 [00:55<25:37, 31.37s/it]\u001b[A\n",
            "Epoch 2: train_loss=1.32414, test_loss=1.45341, test_acc=0.529:   4%|| 2/50 [00:55<21:50, 27.30s/it]\u001b[A\n",
            "Epoch 3: train_loss=1.14449, test_loss=1.06890, test_acc=0.627:   4%|| 2/50 [01:19<21:50, 27.30s/it]\u001b[A\n",
            "Epoch 3: train_loss=1.14449, test_loss=1.06890, test_acc=0.627:   6%|| 3/50 [01:19<19:59, 25.51s/it]\u001b[A\n",
            "Epoch 4: train_loss=1.05864, test_loss=1.07019, test_acc=0.628:   6%|| 3/50 [01:42<19:59, 25.51s/it]\u001b[A\n",
            "Epoch 4: train_loss=1.05864, test_loss=1.07019, test_acc=0.628:   8%|| 4/50 [01:42<18:49, 24.56s/it]\u001b[A\n",
            "Epoch 5: train_loss=0.98368, test_loss=1.00990, test_acc=0.641:   8%|| 4/50 [02:05<18:49, 24.56s/it]\u001b[A\n",
            "Epoch 5: train_loss=0.98368, test_loss=1.00990, test_acc=0.641:  10%|| 5/50 [02:05<18:04, 24.11s/it]\u001b[A\n",
            "Epoch 6: train_loss=0.88392, test_loss=0.82732, test_acc=0.708:  10%|| 5/50 [02:28<18:04, 24.11s/it]\u001b[A\n",
            "Epoch 6: train_loss=0.88392, test_loss=0.82732, test_acc=0.708:  12%|| 6/50 [02:28<17:28, 23.83s/it]\u001b[A\n",
            "Epoch 7: train_loss=0.84460, test_loss=0.79429, test_acc=0.726:  12%|| 6/50 [02:51<17:28, 23.83s/it]\u001b[A\n",
            "Epoch 7: train_loss=0.84460, test_loss=0.79429, test_acc=0.726:  14%|| 7/50 [02:51<16:46, 23.41s/it]\u001b[A\n",
            "Epoch 8: train_loss=0.81735, test_loss=0.86688, test_acc=0.709:  14%|| 7/50 [03:14<16:46, 23.41s/it]\u001b[A\n",
            "Epoch 8: train_loss=0.81735, test_loss=0.86688, test_acc=0.709:  16%|| 8/50 [03:14<16:21, 23.37s/it]\u001b[A\n",
            "Epoch 9: train_loss=0.79965, test_loss=0.77278, test_acc=0.733:  16%|| 8/50 [03:37<16:21, 23.37s/it]\u001b[A\n",
            "Epoch 9: train_loss=0.79965, test_loss=0.77278, test_acc=0.733:  18%|| 9/50 [03:37<15:56, 23.32s/it]\u001b[A\n",
            "Epoch 10: train_loss=0.78351, test_loss=0.77442, test_acc=0.736:  18%|| 9/50 [04:01<15:56, 23.32s/it]\u001b[A\n",
            "Epoch 10: train_loss=0.78351, test_loss=0.77442, test_acc=0.736:  20%|| 10/50 [04:01<15:32, 23.31s/it]\u001b[A\n",
            "Epoch 11: train_loss=0.73467, test_loss=0.70685, test_acc=0.758:  20%|| 10/50 [04:24<15:32, 23.31s/it]\u001b[A\n",
            "Epoch 11: train_loss=0.73467, test_loss=0.70685, test_acc=0.758:  22%|| 11/50 [04:24<15:08, 23.29s/it]\u001b[A\n",
            "Epoch 12: train_loss=0.71473, test_loss=0.69488, test_acc=0.764:  22%|| 11/50 [04:47<15:08, 23.29s/it]\u001b[A\n",
            "Epoch 12: train_loss=0.71473, test_loss=0.69488, test_acc=0.764:  24%|| 12/50 [04:47<14:46, 23.33s/it]\u001b[A\n",
            "Epoch 13: train_loss=0.70500, test_loss=0.70103, test_acc=0.762:  24%|| 12/50 [05:10<14:46, 23.33s/it]\u001b[A\n",
            "Epoch 13: train_loss=0.70500, test_loss=0.70103, test_acc=0.762:  26%|| 13/50 [05:10<14:19, 23.22s/it]\u001b[A\n",
            "Epoch 14: train_loss=0.69134, test_loss=0.68639, test_acc=0.763:  26%|| 13/50 [05:33<14:19, 23.22s/it]\u001b[A\n",
            "Epoch 14: train_loss=0.69134, test_loss=0.68639, test_acc=0.763:  28%|| 14/50 [05:33<13:51, 23.09s/it]\u001b[A\n",
            "Epoch 15: train_loss=0.68669, test_loss=0.67334, test_acc=0.775:  28%|| 14/50 [05:56<13:51, 23.09s/it]\u001b[A\n",
            "Epoch 15: train_loss=0.68669, test_loss=0.67334, test_acc=0.775:  30%|| 15/50 [05:56<13:25, 23.02s/it]\u001b[A\n",
            "Epoch 16: train_loss=0.66149, test_loss=0.65030, test_acc=0.780:  30%|| 15/50 [06:19<13:25, 23.02s/it]\u001b[A\n",
            "Epoch 16: train_loss=0.66149, test_loss=0.65030, test_acc=0.780:  32%|| 16/50 [06:19<13:04, 23.08s/it]\u001b[A\n",
            "Epoch 17: train_loss=0.65158, test_loss=0.65268, test_acc=0.778:  32%|| 16/50 [06:42<13:04, 23.08s/it]\u001b[A\n",
            "Epoch 17: train_loss=0.65158, test_loss=0.65268, test_acc=0.778:  34%|| 17/50 [06:42<12:41, 23.07s/it]\u001b[A\n",
            "Epoch 18: train_loss=0.64940, test_loss=0.64137, test_acc=0.780:  34%|| 17/50 [07:05<12:41, 23.07s/it]\u001b[A\n",
            "Epoch 18: train_loss=0.64940, test_loss=0.64137, test_acc=0.780:  36%|| 18/50 [07:05<12:18, 23.08s/it]\u001b[A\n",
            "Epoch 19: train_loss=0.63461, test_loss=0.63696, test_acc=0.783:  36%|| 18/50 [07:28<12:18, 23.08s/it]\u001b[A\n",
            "Epoch 19: train_loss=0.63461, test_loss=0.63696, test_acc=0.783:  38%|| 19/50 [07:28<11:55, 23.07s/it]\u001b[A\n",
            "Epoch 20: train_loss=0.63199, test_loss=0.62941, test_acc=0.786:  38%|| 19/50 [07:52<11:55, 23.07s/it]\u001b[A\n",
            "Epoch 20: train_loss=0.63199, test_loss=0.62941, test_acc=0.786:  40%|| 20/50 [07:52<11:33, 23.13s/it]\u001b[A\n",
            "Epoch 21: train_loss=0.62205, test_loss=0.62601, test_acc=0.791:  40%|| 20/50 [08:14<11:33, 23.13s/it]\u001b[A\n",
            "Epoch 21: train_loss=0.62205, test_loss=0.62601, test_acc=0.791:  42%|| 21/50 [08:14<11:06, 22.99s/it]\u001b[A\n",
            "Epoch 22: train_loss=0.61655, test_loss=0.62000, test_acc=0.789:  42%|| 21/50 [08:38<11:06, 22.99s/it]\u001b[A\n",
            "Epoch 22: train_loss=0.61655, test_loss=0.62000, test_acc=0.789:  44%|| 22/50 [08:38<10:45, 23.06s/it]\u001b[A\n",
            "Epoch 23: train_loss=0.60877, test_loss=0.61824, test_acc=0.786:  44%|| 22/50 [09:01<10:45, 23.06s/it]\u001b[A\n",
            "Epoch 23: train_loss=0.60877, test_loss=0.61824, test_acc=0.786:  46%|| 23/50 [09:01<10:23, 23.08s/it]\u001b[A\n",
            "Epoch 24: train_loss=0.60382, test_loss=0.60774, test_acc=0.793:  46%|| 23/50 [09:24<10:23, 23.08s/it]\u001b[A\n",
            "Epoch 24: train_loss=0.60382, test_loss=0.60774, test_acc=0.793:  48%|| 24/50 [09:24<10:01, 23.13s/it]\u001b[A\n",
            "Epoch 25: train_loss=0.60238, test_loss=0.60774, test_acc=0.790:  48%|| 24/50 [09:47<10:01, 23.13s/it]\u001b[A\n",
            "Epoch 25: train_loss=0.60238, test_loss=0.60774, test_acc=0.790:  50%|| 25/50 [09:47<09:38, 23.12s/it]\u001b[A\n",
            "Epoch 26: train_loss=0.59346, test_loss=0.60518, test_acc=0.792:  50%|| 25/50 [10:10<09:38, 23.12s/it]\u001b[A\n",
            "Epoch 26: train_loss=0.59346, test_loss=0.60518, test_acc=0.792:  52%|| 26/50 [10:10<09:15, 23.15s/it]\u001b[A\n",
            "Epoch 27: train_loss=0.59726, test_loss=0.60448, test_acc=0.797:  52%|| 26/50 [10:33<09:15, 23.15s/it]\u001b[A\n",
            "Epoch 27: train_loss=0.59726, test_loss=0.60448, test_acc=0.797:  54%|| 27/50 [10:33<08:52, 23.13s/it]\u001b[A\n",
            "Epoch 28: train_loss=0.58808, test_loss=0.60781, test_acc=0.794:  54%|| 27/50 [10:56<08:52, 23.13s/it]\u001b[A\n",
            "Epoch 28: train_loss=0.58808, test_loss=0.60781, test_acc=0.794:  56%|| 28/50 [10:57<08:28, 23.13s/it]\u001b[A\n",
            "Epoch 29: train_loss=0.59140, test_loss=0.60130, test_acc=0.794:  56%|| 28/50 [11:19<08:28, 23.13s/it]\u001b[A\n",
            "Epoch 29: train_loss=0.59140, test_loss=0.60130, test_acc=0.794:  58%|| 29/50 [11:19<08:03, 23.01s/it]\u001b[A\n",
            "Epoch 30: train_loss=0.58841, test_loss=0.59233, test_acc=0.799:  58%|| 29/50 [11:42<08:03, 23.01s/it]\u001b[A\n",
            "Epoch 30: train_loss=0.58841, test_loss=0.59233, test_acc=0.799:  60%|| 30/50 [11:42<07:41, 23.05s/it]\u001b[A\n",
            "Epoch 31: train_loss=0.58821, test_loss=0.60402, test_acc=0.797:  60%|| 30/50 [12:06<07:41, 23.05s/it]\u001b[A\n",
            "Epoch 31: train_loss=0.58821, test_loss=0.60402, test_acc=0.797:  62%|| 31/50 [12:06<07:18, 23.08s/it]\u001b[A\n",
            "Epoch 32: train_loss=0.58836, test_loss=0.60286, test_acc=0.793:  62%|| 31/50 [12:29<07:18, 23.08s/it]\u001b[A\n",
            "Epoch 32: train_loss=0.58836, test_loss=0.60286, test_acc=0.793:  64%|| 32/50 [12:29<06:55, 23.09s/it]\u001b[A\n",
            "Epoch 33: train_loss=0.58124, test_loss=0.60618, test_acc=0.792:  64%|| 32/50 [12:52<06:55, 23.09s/it]\u001b[A\n",
            "Epoch 33: train_loss=0.58124, test_loss=0.60618, test_acc=0.792:  66%|| 33/50 [12:52<06:33, 23.16s/it]\u001b[A\n",
            "Epoch 34: train_loss=0.58029, test_loss=0.59469, test_acc=0.799:  66%|| 33/50 [13:15<06:33, 23.16s/it]\u001b[A\n",
            "Epoch 34: train_loss=0.58029, test_loss=0.59469, test_acc=0.799:  68%|| 34/50 [13:15<06:09, 23.12s/it]\u001b[A\n",
            "Epoch 35: train_loss=0.57959, test_loss=0.60164, test_acc=0.798:  68%|| 34/50 [13:38<06:09, 23.12s/it]\u001b[A\n",
            "Epoch 35: train_loss=0.57959, test_loss=0.60164, test_acc=0.798:  70%|| 35/50 [13:38<05:47, 23.16s/it]\u001b[A\n",
            "Epoch 36: train_loss=0.58192, test_loss=0.59325, test_acc=0.800:  70%|| 35/50 [14:01<05:47, 23.16s/it]\u001b[A\n",
            "Epoch 36: train_loss=0.58192, test_loss=0.59325, test_acc=0.800:  72%|| 36/50 [14:01<05:20, 22.92s/it]\u001b[A\n",
            "Epoch 37: train_loss=0.57883, test_loss=0.59853, test_acc=0.798:  72%|| 36/50 [14:24<05:20, 22.92s/it]\u001b[A\n",
            "Epoch 37: train_loss=0.57883, test_loss=0.59853, test_acc=0.798:  74%|| 37/50 [14:24<04:59, 23.01s/it]\u001b[A\n",
            "Epoch 38: train_loss=0.58134, test_loss=0.59334, test_acc=0.795:  74%|| 37/50 [14:47<04:59, 23.01s/it]\u001b[A\n",
            "Epoch 38: train_loss=0.58134, test_loss=0.59334, test_acc=0.795:  76%|| 38/50 [14:47<04:36, 23.05s/it]\u001b[A\n",
            "Epoch 39: train_loss=0.57381, test_loss=0.58932, test_acc=0.798:  76%|| 38/50 [15:10<04:36, 23.05s/it]\u001b[A\n",
            "Epoch 39: train_loss=0.57381, test_loss=0.58932, test_acc=0.798:  78%|| 39/50 [15:10<04:13, 23.09s/it]\u001b[A\n",
            "Epoch 40: train_loss=0.57782, test_loss=0.59040, test_acc=0.798:  78%|| 39/50 [15:34<04:13, 23.09s/it]\u001b[A\n",
            "Epoch 40: train_loss=0.57782, test_loss=0.59040, test_acc=0.798:  80%|| 40/50 [15:34<03:51, 23.18s/it]\u001b[A\n",
            "Epoch 41: train_loss=0.57839, test_loss=0.58849, test_acc=0.798:  80%|| 40/50 [15:57<03:51, 23.18s/it]\u001b[A\n",
            "Epoch 41: train_loss=0.57839, test_loss=0.58849, test_acc=0.798:  82%|| 41/50 [15:57<03:28, 23.22s/it]\u001b[A\n",
            "Epoch 42: train_loss=0.57547, test_loss=0.58940, test_acc=0.799:  82%|| 41/50 [16:20<03:28, 23.22s/it]\u001b[A\n",
            "Epoch 42: train_loss=0.57547, test_loss=0.58940, test_acc=0.799:  84%|| 42/50 [16:20<03:05, 23.18s/it]\u001b[A\n",
            "Epoch 43: train_loss=0.57697, test_loss=0.59552, test_acc=0.797:  84%|| 42/50 [16:43<03:05, 23.18s/it]\u001b[A\n",
            "Epoch 43: train_loss=0.57697, test_loss=0.59552, test_acc=0.797:  86%|| 43/50 [16:43<02:41, 23.09s/it]\u001b[A\n",
            "Epoch 44: train_loss=0.57535, test_loss=0.58931, test_acc=0.801:  86%|| 43/50 [17:06<02:41, 23.09s/it]\u001b[A\n",
            "Epoch 44: train_loss=0.57535, test_loss=0.58931, test_acc=0.801:  88%|| 44/50 [17:06<02:17, 22.99s/it]\u001b[A\n",
            "Epoch 45: train_loss=0.57398, test_loss=0.59456, test_acc=0.800:  88%|| 44/50 [17:29<02:17, 22.99s/it]\u001b[A\n",
            "Epoch 45: train_loss=0.57398, test_loss=0.59456, test_acc=0.800:  90%|| 45/50 [17:29<01:55, 23.08s/it]\u001b[A\n",
            "Epoch 46: train_loss=0.57228, test_loss=0.59867, test_acc=0.797:  90%|| 45/50 [17:52<01:55, 23.08s/it]\u001b[A\n",
            "Epoch 46: train_loss=0.57228, test_loss=0.59867, test_acc=0.797:  92%|| 46/50 [17:52<01:32, 23.13s/it]\u001b[A\n",
            "Epoch 47: train_loss=0.57557, test_loss=0.58923, test_acc=0.797:  92%|| 46/50 [18:15<01:32, 23.13s/it]\u001b[A\n",
            "Epoch 47: train_loss=0.57557, test_loss=0.58923, test_acc=0.797:  94%|| 47/50 [18:15<01:09, 23.16s/it]\u001b[A\n",
            "Epoch 48: train_loss=0.56849, test_loss=0.59403, test_acc=0.797:  94%|| 47/50 [18:39<01:09, 23.16s/it]\u001b[A\n",
            "Epoch 48: train_loss=0.56849, test_loss=0.59403, test_acc=0.797:  96%|| 48/50 [18:39<00:46, 23.16s/it]\u001b[A\n",
            "Epoch 49: train_loss=0.57502, test_loss=0.58699, test_acc=0.804:  96%|| 48/50 [19:02<00:46, 23.16s/it]\u001b[A\n",
            "Epoch 49: train_loss=0.57502, test_loss=0.58699, test_acc=0.804:  98%|| 49/50 [19:02<00:23, 23.18s/it]\u001b[A\n",
            "Epoch 50: train_loss=0.57648, test_loss=0.58529, test_acc=0.801:  98%|| 49/50 [19:25<00:23, 23.18s/it]\u001b[A\n",
            "Epoch 50: train_loss=0.57648, test_loss=0.58529, test_acc=0.801: 100%|| 50/50 [19:25<00:00, 23.30s/it]\n"
          ]
        },
        {
          "output_type": "stream",
          "name": "stdout",
          "text": [
            "[I 2023-06-08 15:29:51,938] Trial 0 finished with value: 0.8009 and parameters: {'lr': 0.00304135145969802, 'optimizer': 'Adam'}. Best is trial 0 with value: 0.8009.\n",
            "Optuna current parameters: [('lr', 0.001666606648972633), ('optimizer_name', 'SGD')]\n"
          ]
        },
        {
          "output_type": "stream",
          "name": "stderr",
          "text": [
            "\n",
            "Epoch X: train_loss=X, dev_loss=X, dev_acc=X:   0%|| 0/50 [00:00<?, ?it/s]\u001b[A\n",
            "Epoch 1: train_loss=2.27753, test_loss=2.12681, test_acc=0.222:   0%|| 0/50 [00:22<?, ?it/s]\u001b[A\n",
            "Epoch 1: train_loss=2.27753, test_loss=2.12681, test_acc=0.222:   2%|| 1/50 [00:22<18:37, 22.81s/it]\u001b[A\n",
            "Epoch 2: train_loss=2.07178, test_loss=1.96038, test_acc=0.284:   2%|| 1/50 [00:45<18:37, 22.81s/it]\u001b[A\n",
            "Epoch 2: train_loss=2.07178, test_loss=1.96038, test_acc=0.284:   4%|| 2/50 [00:45<18:19, 22.90s/it]\u001b[A\n",
            "Epoch 3: train_loss=1.95445, test_loss=1.85983, test_acc=0.321:   4%|| 2/50 [01:09<18:19, 22.90s/it]\u001b[A\n",
            "Epoch 3: train_loss=1.95445, test_loss=1.85983, test_acc=0.321:   6%|| 3/50 [01:09<18:04, 23.08s/it]\u001b[A\n",
            "Epoch 4: train_loss=1.87982, test_loss=1.78603, test_acc=0.350:   6%|| 3/50 [01:32<18:04, 23.08s/it]\u001b[A\n",
            "Epoch 4: train_loss=1.87982, test_loss=1.78603, test_acc=0.350:   8%|| 4/50 [01:32<17:42, 23.10s/it]\u001b[A\n",
            "Epoch 5: train_loss=1.82943, test_loss=1.73335, test_acc=0.368:   8%|| 4/50 [01:55<17:42, 23.10s/it]\u001b[A\n",
            "Epoch 5: train_loss=1.82943, test_loss=1.73335, test_acc=0.368:  10%|| 5/50 [01:55<17:18, 23.07s/it]\u001b[A\n",
            "Epoch 6: train_loss=1.79296, test_loss=1.71118, test_acc=0.373:  10%|| 5/50 [02:18<17:18, 23.07s/it]\u001b[A\n",
            "Epoch 6: train_loss=1.79296, test_loss=1.71118, test_acc=0.373:  12%|| 6/50 [02:18<16:59, 23.16s/it]\u001b[A\n",
            "Epoch 7: train_loss=1.77335, test_loss=1.69789, test_acc=0.378:  12%|| 6/50 [02:41<16:59, 23.16s/it]\u001b[A\n",
            "Epoch 7: train_loss=1.77335, test_loss=1.69789, test_acc=0.378:  14%|| 7/50 [02:41<16:29, 23.02s/it]\u001b[A\n",
            "Epoch 8: train_loss=1.74955, test_loss=1.66438, test_acc=0.394:  14%|| 7/50 [03:04<16:29, 23.02s/it]\u001b[A\n",
            "Epoch 8: train_loss=1.74955, test_loss=1.66438, test_acc=0.394:  16%|| 8/50 [03:04<16:04, 22.96s/it]\u001b[A\n",
            "Epoch 9: train_loss=1.73079, test_loss=1.64688, test_acc=0.401:  16%|| 8/50 [03:28<16:04, 22.96s/it]\u001b[A\n",
            "Epoch 9: train_loss=1.73079, test_loss=1.64688, test_acc=0.401:  18%|| 9/50 [03:28<15:54, 23.29s/it]\u001b[A\n",
            "Epoch 10: train_loss=1.71036, test_loss=1.62390, test_acc=0.409:  18%|| 9/50 [03:51<15:54, 23.29s/it]\u001b[A\n",
            "Epoch 10: train_loss=1.71036, test_loss=1.62390, test_acc=0.409:  20%|| 10/50 [03:51<15:31, 23.28s/it]\u001b[A\n",
            "Epoch 11: train_loss=1.69929, test_loss=1.61770, test_acc=0.408:  20%|| 10/50 [04:14<15:31, 23.28s/it]\u001b[A\n",
            "Epoch 11: train_loss=1.69929, test_loss=1.61770, test_acc=0.408:  22%|| 11/50 [04:14<15:08, 23.30s/it]\u001b[A\n",
            "Epoch 12: train_loss=1.69212, test_loss=1.61077, test_acc=0.414:  22%|| 11/50 [04:37<15:08, 23.30s/it]\u001b[A\n",
            "Epoch 12: train_loss=1.69212, test_loss=1.61077, test_acc=0.414:  24%|| 12/50 [04:37<14:43, 23.25s/it]\u001b[A\n",
            "Epoch 13: train_loss=1.68308, test_loss=1.59768, test_acc=0.420:  24%|| 12/50 [05:00<14:43, 23.25s/it]\u001b[A\n",
            "Epoch 13: train_loss=1.68308, test_loss=1.59768, test_acc=0.420:  26%|| 13/50 [05:00<14:17, 23.17s/it]\u001b[A\n",
            "Epoch 14: train_loss=1.66897, test_loss=1.59107, test_acc=0.416:  26%|| 13/50 [05:24<14:17, 23.17s/it]\u001b[A\n",
            "Epoch 14: train_loss=1.66897, test_loss=1.59107, test_acc=0.416:  28%|| 14/50 [05:24<13:58, 23.28s/it]\u001b[A\n",
            "Epoch 15: train_loss=1.66358, test_loss=1.59238, test_acc=0.418:  28%|| 14/50 [05:46<13:58, 23.28s/it]\u001b[A\n",
            "Epoch 15: train_loss=1.66358, test_loss=1.59238, test_acc=0.418:  30%|| 15/50 [05:46<13:27, 23.07s/it]\u001b[A\n",
            "Epoch 16: train_loss=1.65734, test_loss=1.58271, test_acc=0.424:  30%|| 15/50 [06:10<13:27, 23.07s/it]\u001b[A\n",
            "Epoch 16: train_loss=1.65734, test_loss=1.58271, test_acc=0.424:  32%|| 16/50 [06:10<13:04, 23.08s/it]\u001b[A\n",
            "Epoch 17: train_loss=1.65476, test_loss=1.57223, test_acc=0.422:  32%|| 16/50 [06:33<13:04, 23.08s/it]\u001b[A\n",
            "Epoch 17: train_loss=1.65476, test_loss=1.57223, test_acc=0.422:  34%|| 17/50 [06:33<12:42, 23.12s/it]\u001b[A\n",
            "Epoch 18: train_loss=1.65132, test_loss=1.56879, test_acc=0.427:  34%|| 17/50 [06:56<12:42, 23.12s/it]\u001b[A\n",
            "Epoch 18: train_loss=1.65132, test_loss=1.56879, test_acc=0.427:  36%|| 18/50 [06:56<12:22, 23.19s/it]\u001b[A\n",
            "Epoch 19: train_loss=1.65127, test_loss=1.56422, test_acc=0.431:  36%|| 18/50 [07:19<12:22, 23.19s/it]\u001b[A\n",
            "Epoch 19: train_loss=1.65127, test_loss=1.56422, test_acc=0.431:  38%|| 19/50 [07:19<12:00, 23.23s/it]\u001b[A\n",
            "Epoch 20: train_loss=1.64154, test_loss=1.56456, test_acc=0.431:  38%|| 19/50 [07:43<12:00, 23.23s/it]\u001b[A\n",
            "Epoch 20: train_loss=1.64154, test_loss=1.56456, test_acc=0.431:  40%|| 20/50 [07:43<11:37, 23.26s/it]\u001b[A\n",
            "Epoch 21: train_loss=1.64400, test_loss=1.56163, test_acc=0.427:  40%|| 20/50 [08:06<11:37, 23.26s/it]\u001b[A\n",
            "Epoch 21: train_loss=1.64400, test_loss=1.56163, test_acc=0.427:  42%|| 21/50 [08:06<11:14, 23.26s/it]\u001b[A\n",
            "Epoch 22: train_loss=1.64061, test_loss=1.55881, test_acc=0.427:  42%|| 21/50 [08:30<11:14, 23.26s/it]\u001b[A\n",
            "Epoch 22: train_loss=1.64061, test_loss=1.55881, test_acc=0.427:  44%|| 22/50 [08:30<10:59, 23.56s/it]\u001b[A\n",
            "Epoch 23: train_loss=1.64102, test_loss=1.56026, test_acc=0.426:  44%|| 22/50 [08:53<10:59, 23.56s/it]\u001b[A\n",
            "Epoch 23: train_loss=1.64102, test_loss=1.56026, test_acc=0.426:  46%|| 23/50 [08:53<10:32, 23.42s/it]\u001b[A\n",
            "Epoch 24: train_loss=1.63715, test_loss=1.55848, test_acc=0.438:  46%|| 23/50 [09:16<10:32, 23.42s/it]\u001b[A\n",
            "Epoch 24: train_loss=1.63715, test_loss=1.55848, test_acc=0.438:  48%|| 24/50 [09:16<10:05, 23.27s/it]\u001b[A\n",
            "Epoch 25: train_loss=1.63554, test_loss=1.54692, test_acc=0.431:  48%|| 24/50 [09:40<10:05, 23.27s/it]\u001b[A\n",
            "Epoch 25: train_loss=1.63554, test_loss=1.54692, test_acc=0.431:  50%|| 25/50 [09:40<09:41, 23.26s/it]\u001b[A\n",
            "Epoch 26: train_loss=1.63616, test_loss=1.54849, test_acc=0.433:  50%|| 25/50 [10:03<09:41, 23.26s/it]\u001b[A\n",
            "Epoch 26: train_loss=1.63616, test_loss=1.54849, test_acc=0.433:  52%|| 26/50 [10:03<09:18, 23.26s/it]\u001b[A\n",
            "Epoch 27: train_loss=1.63621, test_loss=1.54921, test_acc=0.431:  52%|| 26/50 [10:26<09:18, 23.26s/it]\u001b[A\n",
            "Epoch 27: train_loss=1.63621, test_loss=1.54921, test_acc=0.431:  54%|| 27/50 [10:26<08:56, 23.32s/it]\u001b[A\n",
            "Epoch 28: train_loss=1.63330, test_loss=1.54894, test_acc=0.439:  54%|| 27/50 [10:49<08:56, 23.32s/it]\u001b[A\n",
            "Epoch 28: train_loss=1.63330, test_loss=1.54894, test_acc=0.439:  56%|| 28/50 [10:50<08:32, 23.29s/it]\u001b[A\n",
            "Epoch 29: train_loss=1.63384, test_loss=1.55194, test_acc=0.430:  56%|| 28/50 [11:13<08:32, 23.29s/it]\u001b[A\n",
            "Epoch 29: train_loss=1.63384, test_loss=1.55194, test_acc=0.430:  58%|| 29/50 [11:13<08:08, 23.28s/it]\u001b[A\n",
            "Epoch 30: train_loss=1.62972, test_loss=1.55318, test_acc=0.427:  58%|| 29/50 [11:36<08:08, 23.28s/it]\u001b[A\n",
            "Epoch 30: train_loss=1.62972, test_loss=1.55318, test_acc=0.427:  60%|| 30/50 [11:36<07:43, 23.17s/it]\u001b[A\n",
            "Epoch 31: train_loss=1.62396, test_loss=1.55108, test_acc=0.433:  60%|| 30/50 [11:58<07:43, 23.17s/it]\u001b[A\n",
            "Epoch 31: train_loss=1.62396, test_loss=1.55108, test_acc=0.433:  62%|| 31/50 [11:58<07:17, 23.01s/it]\u001b[A\n",
            "Epoch 32: train_loss=1.63050, test_loss=1.55256, test_acc=0.429:  62%|| 31/50 [12:21<07:17, 23.01s/it]\u001b[A\n",
            "Epoch 32: train_loss=1.63050, test_loss=1.55256, test_acc=0.429:  64%|| 32/50 [12:21<06:55, 23.06s/it]\u001b[A\n",
            "Epoch 33: train_loss=1.62398, test_loss=1.54404, test_acc=0.432:  64%|| 32/50 [12:45<06:55, 23.06s/it]\u001b[A\n",
            "Epoch 33: train_loss=1.62398, test_loss=1.54404, test_acc=0.432:  66%|| 33/50 [12:45<06:32, 23.08s/it]\u001b[A\n",
            "Epoch 34: train_loss=1.62821, test_loss=1.54106, test_acc=0.435:  66%|| 33/50 [13:08<06:32, 23.08s/it]\u001b[A\n",
            "Epoch 34: train_loss=1.62821, test_loss=1.54106, test_acc=0.435:  68%|| 34/50 [13:08<06:09, 23.09s/it]\u001b[A\n",
            "Epoch 35: train_loss=1.62951, test_loss=1.54844, test_acc=0.432:  68%|| 34/50 [13:31<06:09, 23.09s/it]\u001b[A\n",
            "Epoch 35: train_loss=1.62951, test_loss=1.54844, test_acc=0.432:  70%|| 35/50 [13:31<05:47, 23.16s/it]\u001b[A\n",
            "Epoch 36: train_loss=1.62666, test_loss=1.54452, test_acc=0.430:  70%|| 35/50 [13:55<05:47, 23.16s/it]\u001b[A\n",
            "Epoch 36: train_loss=1.62666, test_loss=1.54452, test_acc=0.430:  72%|| 36/50 [13:55<05:26, 23.34s/it]\u001b[A\n",
            "Epoch 37: train_loss=1.62669, test_loss=1.54365, test_acc=0.435:  72%|| 36/50 [14:18<05:26, 23.34s/it]\u001b[A\n",
            "Epoch 37: train_loss=1.62669, test_loss=1.54365, test_acc=0.435:  74%|| 37/50 [14:18<05:03, 23.32s/it]\u001b[A\n",
            "Epoch 38: train_loss=1.62400, test_loss=1.54162, test_acc=0.435:  74%|| 37/50 [14:41<05:03, 23.32s/it]\u001b[A\n",
            "Epoch 38: train_loss=1.62400, test_loss=1.54162, test_acc=0.435:  76%|| 38/50 [14:41<04:37, 23.08s/it]\u001b[A\n",
            "Epoch 39: train_loss=1.62631, test_loss=1.54425, test_acc=0.433:  76%|| 38/50 [15:04<04:37, 23.08s/it]\u001b[A\n",
            "Epoch 39: train_loss=1.62631, test_loss=1.54425, test_acc=0.433:  78%|| 39/50 [15:04<04:13, 23.06s/it]\u001b[A\n",
            "Epoch 40: train_loss=1.62636, test_loss=1.53898, test_acc=0.433:  78%|| 39/50 [15:27<04:13, 23.06s/it]\u001b[A\n",
            "Epoch 40: train_loss=1.62636, test_loss=1.53898, test_acc=0.433:  80%|| 40/50 [15:27<03:51, 23.11s/it]\u001b[A\n",
            "Epoch 41: train_loss=1.62637, test_loss=1.54809, test_acc=0.429:  80%|| 40/50 [15:50<03:51, 23.11s/it]\u001b[A\n",
            "Epoch 41: train_loss=1.62637, test_loss=1.54809, test_acc=0.429:  82%|| 41/50 [15:50<03:28, 23.13s/it]\u001b[A\n",
            "Epoch 42: train_loss=1.62498, test_loss=1.54456, test_acc=0.433:  82%|| 41/50 [16:13<03:28, 23.13s/it]\u001b[A\n",
            "Epoch 42: train_loss=1.62498, test_loss=1.54456, test_acc=0.433:  84%|| 42/50 [16:13<03:05, 23.23s/it]\u001b[A\n",
            "Epoch 43: train_loss=1.62636, test_loss=1.54710, test_acc=0.431:  84%|| 42/50 [16:36<03:05, 23.23s/it]\u001b[A\n",
            "Epoch 43: train_loss=1.62636, test_loss=1.54710, test_acc=0.431:  86%|| 43/50 [16:36<02:41, 23.13s/it]\u001b[A\n",
            "Epoch 44: train_loss=1.62362, test_loss=1.54058, test_acc=0.442:  86%|| 43/50 [16:59<02:41, 23.13s/it]\u001b[A\n",
            "Epoch 44: train_loss=1.62362, test_loss=1.54058, test_acc=0.442:  88%|| 44/50 [16:59<02:18, 23.12s/it]\u001b[A\n",
            "Epoch 45: train_loss=1.62262, test_loss=1.54596, test_acc=0.433:  88%|| 44/50 [17:22<02:18, 23.12s/it]\u001b[A\n",
            "Epoch 45: train_loss=1.62262, test_loss=1.54596, test_acc=0.433:  90%|| 45/50 [17:22<01:55, 23.02s/it]\u001b[A\n",
            "Epoch 46: train_loss=1.62267, test_loss=1.54755, test_acc=0.435:  90%|| 45/50 [17:45<01:55, 23.02s/it]\u001b[A\n",
            "Epoch 46: train_loss=1.62267, test_loss=1.54755, test_acc=0.435:  92%|| 46/50 [17:45<01:31, 22.96s/it]\u001b[A\n",
            "Epoch 47: train_loss=1.62036, test_loss=1.54336, test_acc=0.441:  92%|| 46/50 [18:08<01:31, 22.96s/it]\u001b[A\n",
            "Epoch 47: train_loss=1.62036, test_loss=1.54336, test_acc=0.441:  94%|| 47/50 [18:08<01:08, 22.99s/it]\u001b[A\n",
            "Epoch 48: train_loss=1.62291, test_loss=1.54603, test_acc=0.434:  94%|| 47/50 [18:31<01:08, 22.99s/it]\u001b[A\n",
            "Epoch 48: train_loss=1.62291, test_loss=1.54603, test_acc=0.434:  96%|| 48/50 [18:31<00:46, 23.08s/it]\u001b[A\n",
            "Epoch 49: train_loss=1.62640, test_loss=1.54090, test_acc=0.439:  96%|| 48/50 [18:55<00:46, 23.08s/it]\u001b[A\n",
            "Epoch 49: train_loss=1.62640, test_loss=1.54090, test_acc=0.439:  98%|| 49/50 [18:55<00:23, 23.34s/it]\u001b[A\n",
            "Epoch 50: train_loss=1.62484, test_loss=1.53953, test_acc=0.432:  98%|| 49/50 [19:19<00:23, 23.34s/it]\u001b[A\n",
            "Epoch 50: train_loss=1.62484, test_loss=1.53953, test_acc=0.432: 100%|| 50/50 [19:19<00:00, 23.18s/it]\n"
          ]
        },
        {
          "output_type": "stream",
          "name": "stdout",
          "text": [
            "[I 2023-06-08 15:49:11,152] Trial 1 finished with value: 0.4322 and parameters: {'lr': 0.001666606648972633, 'optimizer': 'SGD'}. Best is trial 0 with value: 0.8009.\n",
            "Optuna current parameters: [('lr', 0.00017468377177411184), ('optimizer_name', 'AdamW')]\n"
          ]
        },
        {
          "output_type": "stream",
          "name": "stderr",
          "text": [
            "\n",
            "Epoch X: train_loss=X, dev_loss=X, dev_acc=X:   0%|| 0/50 [00:00<?, ?it/s]\u001b[A\n",
            "Epoch 1: train_loss=1.75394, test_loss=1.43643, test_acc=0.480:   0%|| 0/50 [00:23<?, ?it/s]\u001b[A\n",
            "Epoch 1: train_loss=1.75394, test_loss=1.43643, test_acc=0.480:   2%|| 1/50 [00:23<18:50, 23.08s/it]\u001b[A\n",
            "Epoch 2: train_loss=1.43152, test_loss=1.24675, test_acc=0.553:   2%|| 1/50 [00:46<18:50, 23.08s/it]\u001b[A\n",
            "Epoch 2: train_loss=1.43152, test_loss=1.24675, test_acc=0.553:   4%|| 2/50 [00:46<18:34, 23.22s/it]\u001b[A\n",
            "Epoch 3: train_loss=1.28388, test_loss=1.13160, test_acc=0.595:   4%|| 2/50 [01:08<18:34, 23.22s/it]\u001b[A\n",
            "Epoch 3: train_loss=1.28388, test_loss=1.13160, test_acc=0.595:   6%|| 3/50 [01:08<17:57, 22.93s/it]\u001b[A\n",
            "Epoch 4: train_loss=1.19051, test_loss=1.04788, test_acc=0.630:   6%|| 3/50 [01:32<17:57, 22.93s/it]\u001b[A\n",
            "Epoch 4: train_loss=1.19051, test_loss=1.04788, test_acc=0.630:   8%|| 4/50 [01:32<17:36, 22.97s/it]\u001b[A\n",
            "Epoch 5: train_loss=1.11888, test_loss=1.02110, test_acc=0.642:   8%|| 4/50 [01:55<17:36, 22.97s/it]\u001b[A\n",
            "Epoch 5: train_loss=1.11888, test_loss=1.02110, test_acc=0.642:  10%|| 5/50 [01:55<17:16, 23.03s/it]\u001b[A\n",
            "Epoch 6: train_loss=1.07113, test_loss=0.96041, test_acc=0.659:  10%|| 5/50 [02:18<17:16, 23.03s/it]\u001b[A\n",
            "Epoch 6: train_loss=1.07113, test_loss=0.96041, test_acc=0.659:  12%|| 6/50 [02:18<16:58, 23.14s/it]\u001b[A\n",
            "Epoch 7: train_loss=1.03809, test_loss=0.93082, test_acc=0.670:  12%|| 6/50 [02:41<16:58, 23.14s/it]\u001b[A\n",
            "Epoch 7: train_loss=1.03809, test_loss=0.93082, test_acc=0.670:  14%|| 7/50 [02:41<16:34, 23.14s/it]\u001b[A\n",
            "Epoch 8: train_loss=1.01502, test_loss=0.94605, test_acc=0.669:  14%|| 7/50 [03:04<16:34, 23.14s/it]\u001b[A\n",
            "Epoch 8: train_loss=1.01502, test_loss=0.94605, test_acc=0.669:  16%|| 8/50 [03:04<16:13, 23.19s/it]\u001b[A\n",
            "Epoch 9: train_loss=0.99669, test_loss=0.90201, test_acc=0.686:  16%|| 8/50 [03:28<16:13, 23.19s/it]\u001b[A\n",
            "Epoch 9: train_loss=0.99669, test_loss=0.90201, test_acc=0.686:  18%|| 9/50 [03:28<15:49, 23.16s/it]\u001b[A\n",
            "Epoch 10: train_loss=0.97445, test_loss=0.91823, test_acc=0.680:  18%|| 9/50 [03:51<15:49, 23.16s/it]\u001b[A\n",
            "Epoch 10: train_loss=0.97445, test_loss=0.91823, test_acc=0.680:  20%|| 10/50 [03:51<15:26, 23.17s/it]\u001b[A\n",
            "Epoch 11: train_loss=0.95079, test_loss=0.87769, test_acc=0.694:  20%|| 10/50 [04:13<15:26, 23.17s/it]\u001b[A\n",
            "Epoch 11: train_loss=0.95079, test_loss=0.87769, test_acc=0.694:  22%|| 11/50 [04:13<14:56, 23.00s/it]\u001b[A\n",
            "Epoch 12: train_loss=0.94863, test_loss=0.86416, test_acc=0.698:  22%|| 11/50 [04:37<14:56, 23.00s/it]\u001b[A\n",
            "Epoch 12: train_loss=0.94863, test_loss=0.86416, test_acc=0.698:  24%|| 12/50 [04:37<14:36, 23.06s/it]\u001b[A\n",
            "Epoch 13: train_loss=0.93408, test_loss=0.86293, test_acc=0.694:  24%|| 12/50 [05:01<14:36, 23.06s/it]\u001b[A\n",
            "Epoch 13: train_loss=0.93408, test_loss=0.86293, test_acc=0.694:  26%|| 13/50 [05:01<14:24, 23.36s/it]\u001b[A\n",
            "Epoch 14: train_loss=0.92529, test_loss=0.86667, test_acc=0.700:  26%|| 13/50 [05:24<14:24, 23.36s/it]\u001b[A\n",
            "Epoch 14: train_loss=0.92529, test_loss=0.86667, test_acc=0.700:  28%|| 14/50 [05:24<13:58, 23.30s/it]\u001b[A\n",
            "Epoch 15: train_loss=0.92079, test_loss=0.84820, test_acc=0.697:  28%|| 14/50 [05:47<13:58, 23.30s/it]\u001b[A\n",
            "Epoch 15: train_loss=0.92079, test_loss=0.84820, test_acc=0.697:  30%|| 15/50 [05:47<13:33, 23.25s/it]\u001b[A\n",
            "Epoch 16: train_loss=0.91117, test_loss=0.83882, test_acc=0.707:  30%|| 15/50 [06:10<13:33, 23.25s/it]\u001b[A\n",
            "Epoch 16: train_loss=0.91117, test_loss=0.83882, test_acc=0.707:  32%|| 16/50 [06:10<13:09, 23.23s/it]\u001b[A\n",
            "Epoch 17: train_loss=0.90179, test_loss=0.83663, test_acc=0.702:  32%|| 16/50 [06:33<13:09, 23.23s/it]\u001b[A\n",
            "Epoch 17: train_loss=0.90179, test_loss=0.83663, test_acc=0.702:  34%|| 17/50 [06:33<12:47, 23.25s/it]\u001b[A\n",
            "Epoch 18: train_loss=0.89842, test_loss=0.84364, test_acc=0.702:  34%|| 17/50 [06:56<12:47, 23.25s/it]\u001b[A\n",
            "Epoch 18: train_loss=0.89842, test_loss=0.84364, test_acc=0.702:  36%|| 18/50 [06:56<12:19, 23.10s/it]\u001b[A\n",
            "Epoch 19: train_loss=0.89447, test_loss=0.83429, test_acc=0.704:  36%|| 18/50 [07:19<12:19, 23.10s/it]\u001b[A\n",
            "Epoch 19: train_loss=0.89447, test_loss=0.83429, test_acc=0.704:  38%|| 19/50 [07:19<11:54, 23.03s/it]\u001b[A\n",
            "Epoch 20: train_loss=0.89098, test_loss=0.83425, test_acc=0.706:  38%|| 19/50 [07:42<11:54, 23.03s/it]\u001b[A\n",
            "Epoch 20: train_loss=0.89098, test_loss=0.83425, test_acc=0.706:  40%|| 20/50 [07:42<11:31, 23.06s/it]\u001b[A\n",
            "Epoch 21: train_loss=0.88684, test_loss=0.82335, test_acc=0.712:  40%|| 20/50 [08:05<11:31, 23.06s/it]\u001b[A\n",
            "Epoch 21: train_loss=0.88684, test_loss=0.82335, test_acc=0.712:  42%|| 21/50 [08:05<11:10, 23.14s/it]\u001b[A\n",
            "Epoch 22: train_loss=0.88221, test_loss=0.82059, test_acc=0.712:  42%|| 21/50 [08:28<11:10, 23.14s/it]\u001b[A\n",
            "Epoch 22: train_loss=0.88221, test_loss=0.82059, test_acc=0.712:  44%|| 22/50 [08:28<10:47, 23.11s/it]\u001b[A\n",
            "Epoch 23: train_loss=0.87873, test_loss=0.82856, test_acc=0.709:  44%|| 22/50 [08:52<10:47, 23.11s/it]\u001b[A\n",
            "Epoch 23: train_loss=0.87873, test_loss=0.82856, test_acc=0.709:  46%|| 23/50 [08:52<10:25, 23.16s/it]\u001b[A\n",
            "Epoch 24: train_loss=0.87852, test_loss=0.82434, test_acc=0.711:  46%|| 23/50 [09:15<10:25, 23.16s/it]\u001b[A\n",
            "Epoch 24: train_loss=0.87852, test_loss=0.82434, test_acc=0.711:  48%|| 24/50 [09:15<10:02, 23.18s/it]\u001b[A\n",
            "Epoch 25: train_loss=0.87823, test_loss=0.82339, test_acc=0.716:  48%|| 24/50 [09:38<10:02, 23.18s/it]\u001b[A\n",
            "Epoch 25: train_loss=0.87823, test_loss=0.82339, test_acc=0.716:  50%|| 25/50 [09:38<09:35, 23.01s/it]\u001b[A\n",
            "Epoch 26: train_loss=0.87616, test_loss=0.81955, test_acc=0.714:  50%|| 25/50 [10:01<09:35, 23.01s/it]\u001b[A\n",
            "Epoch 26: train_loss=0.87616, test_loss=0.81955, test_acc=0.714:  52%|| 26/50 [10:01<09:12, 23.02s/it]\u001b[A\n",
            "Epoch 27: train_loss=0.87474, test_loss=0.81500, test_acc=0.712:  52%|| 26/50 [10:24<09:12, 23.02s/it]\u001b[A\n",
            "Epoch 27: train_loss=0.87474, test_loss=0.81500, test_acc=0.712:  54%|| 27/50 [10:24<08:49, 23.04s/it]\u001b[A\n",
            "Epoch 28: train_loss=0.87113, test_loss=0.81442, test_acc=0.716:  54%|| 27/50 [10:48<08:49, 23.04s/it]\u001b[A\n",
            "Epoch 28: train_loss=0.87113, test_loss=0.81442, test_acc=0.716:  56%|| 28/50 [10:48<08:32, 23.30s/it]\u001b[A\n",
            "Epoch 29: train_loss=0.87252, test_loss=0.81632, test_acc=0.713:  56%|| 28/50 [11:11<08:32, 23.30s/it]\u001b[A\n",
            "Epoch 29: train_loss=0.87252, test_loss=0.81632, test_acc=0.713:  58%|| 29/50 [11:11<08:08, 23.24s/it]\u001b[A\n",
            "Epoch 30: train_loss=0.86778, test_loss=0.80979, test_acc=0.715:  58%|| 29/50 [11:34<08:08, 23.24s/it]\u001b[A\n",
            "Epoch 30: train_loss=0.86778, test_loss=0.80979, test_acc=0.715:  60%|| 30/50 [11:34<07:44, 23.23s/it]\u001b[A\n",
            "Epoch 31: train_loss=0.86938, test_loss=0.81904, test_acc=0.716:  60%|| 30/50 [11:57<07:44, 23.23s/it]\u001b[A\n",
            "Epoch 31: train_loss=0.86938, test_loss=0.81904, test_acc=0.716:  62%|| 31/50 [11:57<07:22, 23.29s/it]\u001b[A\n",
            "Epoch 32: train_loss=0.87150, test_loss=0.81625, test_acc=0.712:  62%|| 31/50 [12:20<07:22, 23.29s/it]\u001b[A\n",
            "Epoch 32: train_loss=0.87150, test_loss=0.81625, test_acc=0.712:  64%|| 32/50 [12:20<06:58, 23.23s/it]\u001b[A\n",
            "Epoch 33: train_loss=0.87005, test_loss=0.80945, test_acc=0.715:  64%|| 32/50 [12:43<06:58, 23.23s/it]\u001b[A\n",
            "Epoch 33: train_loss=0.87005, test_loss=0.80945, test_acc=0.715:  66%|| 33/50 [12:43<06:31, 23.03s/it]\u001b[A\n",
            "Epoch 34: train_loss=0.86757, test_loss=0.80900, test_acc=0.715:  66%|| 33/50 [13:06<06:31, 23.03s/it]\u001b[A\n",
            "Epoch 34: train_loss=0.86757, test_loss=0.80900, test_acc=0.715:  68%|| 34/50 [13:06<06:09, 23.06s/it]\u001b[A\n",
            "Epoch 35: train_loss=0.86850, test_loss=0.80720, test_acc=0.717:  68%|| 34/50 [13:29<06:09, 23.06s/it]\u001b[A\n",
            "Epoch 35: train_loss=0.86850, test_loss=0.80720, test_acc=0.717:  70%|| 35/50 [13:29<05:46, 23.09s/it]\u001b[A\n",
            "Epoch 36: train_loss=0.86750, test_loss=0.81497, test_acc=0.712:  70%|| 35/50 [13:52<05:46, 23.09s/it]\u001b[A\n",
            "Epoch 36: train_loss=0.86750, test_loss=0.81497, test_acc=0.712:  72%|| 36/50 [13:53<05:23, 23.12s/it]\u001b[A\n",
            "Epoch 37: train_loss=0.86571, test_loss=0.81380, test_acc=0.716:  72%|| 36/50 [14:16<05:23, 23.12s/it]\u001b[A\n",
            "Epoch 37: train_loss=0.86571, test_loss=0.81380, test_acc=0.716:  74%|| 37/50 [14:16<05:00, 23.12s/it]\u001b[A\n",
            "Epoch 38: train_loss=0.86924, test_loss=0.81095, test_acc=0.717:  74%|| 37/50 [14:39<05:00, 23.12s/it]\u001b[A\n",
            "Epoch 38: train_loss=0.86924, test_loss=0.81095, test_acc=0.717:  76%|| 38/50 [14:39<04:37, 23.12s/it]\u001b[A\n",
            "Epoch 39: train_loss=0.87139, test_loss=0.81815, test_acc=0.712:  76%|| 38/50 [15:02<04:37, 23.12s/it]\u001b[A\n",
            "Epoch 39: train_loss=0.87139, test_loss=0.81815, test_acc=0.712:  78%|| 39/50 [15:02<04:14, 23.17s/it]\u001b[A\n",
            "Epoch 40: train_loss=0.86784, test_loss=0.81464, test_acc=0.716:  78%|| 39/50 [15:24<04:14, 23.17s/it]\u001b[A\n",
            "Epoch 40: train_loss=0.86784, test_loss=0.81464, test_acc=0.716:  80%|| 40/50 [15:24<03:49, 22.94s/it]\u001b[A\n",
            "Epoch 41: train_loss=0.86893, test_loss=0.81152, test_acc=0.716:  80%|| 40/50 [15:48<03:49, 22.94s/it]\u001b[A\n",
            "Epoch 41: train_loss=0.86893, test_loss=0.81152, test_acc=0.716:  82%|| 41/50 [15:48<03:26, 23.00s/it]\u001b[A\n",
            "Epoch 42: train_loss=0.86513, test_loss=0.81255, test_acc=0.715:  82%|| 41/50 [16:11<03:26, 23.00s/it]\u001b[A\n",
            "Epoch 42: train_loss=0.86513, test_loss=0.81255, test_acc=0.715:  84%|| 42/50 [16:11<03:06, 23.27s/it]\u001b[A\n",
            "Epoch 43: train_loss=0.86576, test_loss=0.80806, test_acc=0.716:  84%|| 42/50 [16:35<03:06, 23.27s/it]\u001b[A\n",
            "Epoch 43: train_loss=0.86576, test_loss=0.80806, test_acc=0.716:  86%|| 43/50 [16:35<02:42, 23.25s/it]\u001b[A\n",
            "Epoch 44: train_loss=0.86790, test_loss=0.80563, test_acc=0.716:  86%|| 43/50 [16:58<02:42, 23.25s/it]\u001b[A\n",
            "Epoch 44: train_loss=0.86790, test_loss=0.80563, test_acc=0.716:  88%|| 44/50 [16:58<02:19, 23.31s/it]\u001b[A\n",
            "Epoch 45: train_loss=0.86571, test_loss=0.80784, test_acc=0.717:  88%|| 44/50 [17:21<02:19, 23.31s/it]\u001b[A\n",
            "Epoch 45: train_loss=0.86571, test_loss=0.80784, test_acc=0.717:  90%|| 45/50 [17:21<01:56, 23.29s/it]\u001b[A\n",
            "Epoch 46: train_loss=0.86635, test_loss=0.81297, test_acc=0.717:  90%|| 45/50 [17:44<01:56, 23.29s/it]\u001b[A\n",
            "Epoch 46: train_loss=0.86635, test_loss=0.81297, test_acc=0.717:  92%|| 46/50 [17:44<01:32, 23.24s/it]\u001b[A\n",
            "Epoch 47: train_loss=0.86337, test_loss=0.81443, test_acc=0.713:  92%|| 46/50 [18:08<01:32, 23.24s/it]\u001b[A\n",
            "Epoch 47: train_loss=0.86337, test_loss=0.81443, test_acc=0.713:  94%|| 47/50 [18:08<01:09, 23.31s/it]\u001b[A\n",
            "Epoch 48: train_loss=0.86405, test_loss=0.81222, test_acc=0.715:  94%|| 47/50 [18:30<01:09, 23.31s/it]\u001b[A\n",
            "Epoch 48: train_loss=0.86405, test_loss=0.81222, test_acc=0.715:  96%|| 48/50 [18:30<00:46, 23.06s/it]\u001b[A\n",
            "Epoch 49: train_loss=0.86483, test_loss=0.81624, test_acc=0.718:  96%|| 48/50 [18:54<00:46, 23.06s/it]\u001b[A\n",
            "Epoch 49: train_loss=0.86483, test_loss=0.81624, test_acc=0.718:  98%|| 49/50 [18:54<00:23, 23.09s/it]\u001b[A\n",
            "Epoch 50: train_loss=0.86713, test_loss=0.80966, test_acc=0.715:  98%|| 49/50 [19:17<00:23, 23.09s/it]\u001b[A\n",
            "Epoch 50: train_loss=0.86713, test_loss=0.80966, test_acc=0.715: 100%|| 50/50 [19:17<00:00, 23.14s/it]\n"
          ]
        },
        {
          "output_type": "stream",
          "name": "stdout",
          "text": [
            "[I 2023-06-08 16:08:28,243] Trial 2 finished with value: 0.7148 and parameters: {'lr': 0.00017468377177411184, 'optimizer': 'AdamW'}. Best is trial 0 with value: 0.8009.\n",
            "Optuna current parameters: [('lr', 0.00026545625449584694), ('optimizer_name', 'Adam')]\n"
          ]
        },
        {
          "output_type": "stream",
          "name": "stderr",
          "text": [
            "\n",
            "Epoch X: train_loss=X, dev_loss=X, dev_acc=X:   0%|| 0/50 [00:00<?, ?it/s]\u001b[A\n",
            "Epoch 1: train_loss=1.68287, test_loss=1.38398, test_acc=0.501:   0%|| 0/50 [00:23<?, ?it/s]\u001b[A\n",
            "Epoch 1: train_loss=1.68287, test_loss=1.38398, test_acc=0.501:   2%|| 1/50 [00:23<18:58, 23.24s/it]\u001b[A\n",
            "Epoch 2: train_loss=1.35923, test_loss=1.20192, test_acc=0.565:   2%|| 1/50 [00:46<18:58, 23.24s/it]\u001b[A\n",
            "Epoch 2: train_loss=1.35923, test_loss=1.20192, test_acc=0.565:   4%|| 2/50 [00:46<18:40, 23.35s/it]\u001b[A\n",
            "Epoch 3: train_loss=1.20967, test_loss=1.07285, test_acc=0.621:   4%|| 2/50 [01:09<18:40, 23.35s/it]\u001b[A\n",
            "Epoch 3: train_loss=1.20967, test_loss=1.07285, test_acc=0.621:   6%|| 3/50 [01:09<18:12, 23.23s/it]\u001b[A\n",
            "Epoch 4: train_loss=1.11334, test_loss=0.99427, test_acc=0.650:   6%|| 3/50 [01:33<18:12, 23.23s/it]\u001b[A\n",
            "Epoch 4: train_loss=1.11334, test_loss=0.99427, test_acc=0.650:   8%|| 4/50 [01:33<17:50, 23.27s/it]\u001b[A\n",
            "Epoch 5: train_loss=1.04604, test_loss=0.94893, test_acc=0.666:   8%|| 4/50 [01:55<17:50, 23.27s/it]\u001b[A\n",
            "Epoch 5: train_loss=1.04604, test_loss=0.94893, test_acc=0.666:  10%|| 5/50 [01:55<17:17, 23.05s/it]\u001b[A\n",
            "Epoch 6: train_loss=0.97933, test_loss=0.90349, test_acc=0.683:  10%|| 5/50 [02:19<17:17, 23.05s/it]\u001b[A\n",
            "Epoch 6: train_loss=0.97933, test_loss=0.90349, test_acc=0.683:  12%|| 6/50 [02:19<17:04, 23.28s/it]\u001b[A\n",
            "Epoch 7: train_loss=0.95301, test_loss=0.86640, test_acc=0.697:  12%|| 6/50 [02:42<17:04, 23.28s/it]\u001b[A\n",
            "Epoch 7: train_loss=0.95301, test_loss=0.86640, test_acc=0.697:  14%|| 7/50 [02:42<16:39, 23.25s/it]\u001b[A\n",
            "Epoch 8: train_loss=0.93138, test_loss=0.85824, test_acc=0.703:  14%|| 7/50 [03:05<16:39, 23.25s/it]\u001b[A\n",
            "Epoch 8: train_loss=0.93138, test_loss=0.85824, test_acc=0.703:  16%|| 8/50 [03:05<16:16, 23.25s/it]\u001b[A\n",
            "Epoch 9: train_loss=0.91249, test_loss=0.84019, test_acc=0.703:  16%|| 8/50 [03:28<16:16, 23.25s/it]\u001b[A\n",
            "Epoch 9: train_loss=0.91249, test_loss=0.84019, test_acc=0.703:  18%|| 9/50 [03:28<15:50, 23.19s/it]\u001b[A\n",
            "Epoch 10: train_loss=0.88907, test_loss=0.82066, test_acc=0.713:  18%|| 9/50 [03:52<15:50, 23.19s/it]\u001b[A\n",
            "Epoch 10: train_loss=0.88907, test_loss=0.82066, test_acc=0.713:  20%|| 10/50 [03:52<15:29, 23.23s/it]\u001b[A\n",
            "Epoch 11: train_loss=0.86239, test_loss=0.79572, test_acc=0.721:  20%|| 10/50 [04:15<15:29, 23.23s/it]\u001b[A\n",
            "Epoch 11: train_loss=0.86239, test_loss=0.79572, test_acc=0.721:  22%|| 11/50 [04:15<15:03, 23.16s/it]\u001b[A\n",
            "Epoch 12: train_loss=0.85355, test_loss=0.78772, test_acc=0.723:  22%|| 11/50 [04:38<15:03, 23.16s/it]\u001b[A\n",
            "Epoch 12: train_loss=0.85355, test_loss=0.78772, test_acc=0.723:  24%|| 12/50 [04:38<14:38, 23.12s/it]\u001b[A\n",
            "Epoch 13: train_loss=0.84518, test_loss=0.79191, test_acc=0.721:  24%|| 12/50 [05:00<14:38, 23.12s/it]\u001b[A\n",
            "Epoch 13: train_loss=0.84518, test_loss=0.79191, test_acc=0.721:  26%|| 13/50 [05:00<14:09, 22.97s/it]\u001b[A\n",
            "Epoch 14: train_loss=0.83783, test_loss=0.77063, test_acc=0.735:  26%|| 13/50 [05:24<14:09, 22.97s/it]\u001b[A\n",
            "Epoch 14: train_loss=0.83783, test_loss=0.77063, test_acc=0.735:  28%|| 14/50 [05:24<13:50, 23.06s/it]\u001b[A\n",
            "Epoch 15: train_loss=0.82743, test_loss=0.77669, test_acc=0.726:  28%|| 14/50 [05:47<13:50, 23.06s/it]\u001b[A\n",
            "Epoch 15: train_loss=0.82743, test_loss=0.77669, test_acc=0.726:  30%|| 15/50 [05:47<13:29, 23.12s/it]\u001b[A\n",
            "Epoch 16: train_loss=0.82019, test_loss=0.77235, test_acc=0.729:  30%|| 15/50 [06:10<13:29, 23.12s/it]\u001b[A\n",
            "Epoch 16: train_loss=0.82019, test_loss=0.77235, test_acc=0.729:  32%|| 16/50 [06:10<13:07, 23.15s/it]\u001b[A\n",
            "Epoch 17: train_loss=0.81140, test_loss=0.76807, test_acc=0.734:  32%|| 16/50 [06:33<13:07, 23.15s/it]\u001b[A\n",
            "Epoch 17: train_loss=0.81140, test_loss=0.76807, test_acc=0.734:  34%|| 17/50 [06:33<12:44, 23.17s/it]\u001b[A\n",
            "Epoch 18: train_loss=0.80892, test_loss=0.75759, test_acc=0.734:  34%|| 17/50 [06:57<12:44, 23.17s/it]\u001b[A\n",
            "Epoch 18: train_loss=0.80892, test_loss=0.75759, test_acc=0.734:  36%|| 18/50 [06:57<12:22, 23.21s/it]\u001b[A\n",
            "Epoch 19: train_loss=0.80168, test_loss=0.76857, test_acc=0.728:  36%|| 18/50 [07:21<12:22, 23.21s/it]\u001b[A\n",
            "Epoch 19: train_loss=0.80168, test_loss=0.76857, test_acc=0.728:  38%|| 19/50 [07:21<12:06, 23.45s/it]\u001b[A\n",
            "Epoch 20: train_loss=0.79733, test_loss=0.75585, test_acc=0.734:  38%|| 19/50 [07:44<12:06, 23.45s/it]\u001b[A\n",
            "Epoch 20: train_loss=0.79733, test_loss=0.75585, test_acc=0.734:  40%|| 20/50 [07:44<11:39, 23.31s/it]\u001b[A\n",
            "Epoch 21: train_loss=0.78841, test_loss=0.74854, test_acc=0.738:  40%|| 20/50 [08:07<11:39, 23.31s/it]\u001b[A\n",
            "Epoch 21: train_loss=0.78841, test_loss=0.74854, test_acc=0.738:  42%|| 21/50 [08:07<11:11, 23.16s/it]\u001b[A\n",
            "Epoch 22: train_loss=0.79115, test_loss=0.74864, test_acc=0.735:  42%|| 21/50 [08:30<11:11, 23.16s/it]\u001b[A\n",
            "Epoch 22: train_loss=0.79115, test_loss=0.74864, test_acc=0.735:  44%|| 22/50 [08:30<10:49, 23.20s/it]\u001b[A\n",
            "Epoch 23: train_loss=0.78797, test_loss=0.73842, test_acc=0.737:  44%|| 22/50 [08:53<10:49, 23.20s/it]\u001b[A\n",
            "Epoch 23: train_loss=0.78797, test_loss=0.73842, test_acc=0.737:  46%|| 23/50 [08:53<10:27, 23.25s/it]\u001b[A\n",
            "Epoch 24: train_loss=0.78764, test_loss=0.74855, test_acc=0.741:  46%|| 23/50 [09:16<10:27, 23.25s/it]\u001b[A\n",
            "Epoch 24: train_loss=0.78764, test_loss=0.74855, test_acc=0.741:  48%|| 24/50 [09:16<10:02, 23.19s/it]\u001b[A\n",
            "Epoch 25: train_loss=0.78809, test_loss=0.74721, test_acc=0.739:  48%|| 24/50 [09:40<10:02, 23.19s/it]\u001b[A\n",
            "Epoch 25: train_loss=0.78809, test_loss=0.74721, test_acc=0.739:  50%|| 25/50 [09:40<09:40, 23.23s/it]\u001b[A\n",
            "Epoch 26: train_loss=0.78379, test_loss=0.74378, test_acc=0.735:  50%|| 25/50 [10:03<09:40, 23.23s/it]\u001b[A\n",
            "Epoch 26: train_loss=0.78379, test_loss=0.74378, test_acc=0.735:  52%|| 26/50 [10:03<09:16, 23.20s/it]\u001b[A\n",
            "Epoch 27: train_loss=0.77967, test_loss=0.74565, test_acc=0.741:  52%|| 26/50 [10:26<09:16, 23.20s/it]\u001b[A\n",
            "Epoch 27: train_loss=0.77967, test_loss=0.74565, test_acc=0.741:  54%|| 27/50 [10:26<08:51, 23.12s/it]\u001b[A\n",
            "Epoch 28: train_loss=0.77974, test_loss=0.74590, test_acc=0.738:  54%|| 27/50 [10:48<08:51, 23.12s/it]\u001b[A\n",
            "Epoch 28: train_loss=0.77974, test_loss=0.74590, test_acc=0.738:  56%|| 28/50 [10:48<08:25, 22.98s/it]\u001b[A\n",
            "Epoch 29: train_loss=0.78103, test_loss=0.73555, test_acc=0.742:  56%|| 28/50 [11:12<08:25, 22.98s/it]\u001b[A\n",
            "Epoch 29: train_loss=0.78103, test_loss=0.73555, test_acc=0.742:  58%|| 29/50 [11:12<08:04, 23.07s/it]\u001b[A\n",
            "Epoch 30: train_loss=0.78415, test_loss=0.74292, test_acc=0.742:  58%|| 29/50 [11:35<08:04, 23.07s/it]\u001b[A\n",
            "Epoch 30: train_loss=0.78415, test_loss=0.74292, test_acc=0.742:  60%|| 30/50 [11:35<07:42, 23.11s/it]\u001b[A\n",
            "Epoch 31: train_loss=0.78388, test_loss=0.74087, test_acc=0.743:  60%|| 30/50 [11:58<07:42, 23.11s/it]\u001b[A\n",
            "Epoch 31: train_loss=0.78388, test_loss=0.74087, test_acc=0.743:  62%|| 31/50 [11:58<07:19, 23.14s/it]\u001b[A\n",
            "Epoch 32: train_loss=0.78002, test_loss=0.74359, test_acc=0.743:  62%|| 31/50 [12:21<07:19, 23.14s/it]\u001b[A\n",
            "Epoch 32: train_loss=0.78002, test_loss=0.74359, test_acc=0.743:  64%|| 32/50 [12:21<06:56, 23.16s/it]\u001b[A\n",
            "Epoch 33: train_loss=0.77675, test_loss=0.73087, test_acc=0.745:  64%|| 32/50 [12:45<06:56, 23.16s/it]\u001b[A\n",
            "Epoch 33: train_loss=0.77675, test_loss=0.73087, test_acc=0.745:  66%|| 33/50 [12:45<06:39, 23.48s/it]\u001b[A\n",
            "Epoch 34: train_loss=0.77473, test_loss=0.72619, test_acc=0.742:  66%|| 33/50 [13:08<06:39, 23.48s/it]\u001b[A\n",
            "Epoch 34: train_loss=0.77473, test_loss=0.72619, test_acc=0.742:  68%|| 34/50 [13:08<06:13, 23.32s/it]\u001b[A\n",
            "Epoch 35: train_loss=0.77273, test_loss=0.73805, test_acc=0.742:  68%|| 34/50 [13:31<06:13, 23.32s/it]\u001b[A\n",
            "Epoch 35: train_loss=0.77273, test_loss=0.73805, test_acc=0.742:  70%|| 35/50 [13:31<05:46, 23.11s/it]\u001b[A\n",
            "Epoch 36: train_loss=0.77524, test_loss=0.74191, test_acc=0.740:  70%|| 35/50 [13:54<05:46, 23.11s/it]\u001b[A\n",
            "Epoch 36: train_loss=0.77524, test_loss=0.74191, test_acc=0.740:  72%|| 36/50 [13:54<05:23, 23.13s/it]\u001b[A\n",
            "Epoch 37: train_loss=0.77984, test_loss=0.74161, test_acc=0.740:  72%|| 36/50 [14:17<05:23, 23.13s/it]\u001b[A\n",
            "Epoch 37: train_loss=0.77984, test_loss=0.74161, test_acc=0.740:  74%|| 37/50 [14:17<05:00, 23.12s/it]\u001b[A\n",
            "Epoch 38: train_loss=0.77139, test_loss=0.73409, test_acc=0.738:  74%|| 37/50 [14:40<05:00, 23.12s/it]\u001b[A\n",
            "Epoch 38: train_loss=0.77139, test_loss=0.73409, test_acc=0.738:  76%|| 38/50 [14:40<04:37, 23.15s/it]\u001b[A\n",
            "Epoch 39: train_loss=0.77221, test_loss=0.73885, test_acc=0.742:  76%|| 38/50 [15:04<04:37, 23.15s/it]\u001b[A\n",
            "Epoch 39: train_loss=0.77221, test_loss=0.73885, test_acc=0.742:  78%|| 39/50 [15:04<04:14, 23.17s/it]\u001b[A\n",
            "Epoch 40: train_loss=0.76876, test_loss=0.73644, test_acc=0.742:  78%|| 39/50 [15:27<04:14, 23.17s/it]\u001b[A\n",
            "Epoch 40: train_loss=0.76876, test_loss=0.73644, test_acc=0.742:  80%|| 40/50 [15:27<03:51, 23.20s/it]\u001b[A\n",
            "Epoch 41: train_loss=0.77232, test_loss=0.73679, test_acc=0.743:  80%|| 40/50 [15:50<03:51, 23.20s/it]\u001b[A\n",
            "Epoch 41: train_loss=0.77232, test_loss=0.73679, test_acc=0.743:  82%|| 41/50 [15:50<03:29, 23.27s/it]\u001b[A\n",
            "Epoch 42: train_loss=0.77028, test_loss=0.74072, test_acc=0.738:  82%|| 41/50 [16:13<03:29, 23.27s/it]\u001b[A\n",
            "Epoch 42: train_loss=0.77028, test_loss=0.74072, test_acc=0.738:  84%|| 42/50 [16:13<03:03, 22.98s/it]\u001b[A\n",
            "Epoch 43: train_loss=0.77272, test_loss=0.73959, test_acc=0.743:  84%|| 42/50 [16:36<03:03, 22.98s/it]\u001b[A\n",
            "Epoch 43: train_loss=0.77272, test_loss=0.73959, test_acc=0.743:  86%|| 43/50 [16:36<02:41, 23.14s/it]\u001b[A\n",
            "Epoch 44: train_loss=0.77031, test_loss=0.73435, test_acc=0.741:  86%|| 43/50 [16:59<02:41, 23.14s/it]\u001b[A\n",
            "Epoch 44: train_loss=0.77031, test_loss=0.73435, test_acc=0.741:  88%|| 44/50 [16:59<02:18, 23.12s/it]\u001b[A\n",
            "Epoch 45: train_loss=0.77624, test_loss=0.73571, test_acc=0.743:  88%|| 44/50 [17:22<02:18, 23.12s/it]\u001b[A\n",
            "Epoch 45: train_loss=0.77624, test_loss=0.73571, test_acc=0.743:  90%|| 45/50 [17:22<01:55, 23.11s/it]\u001b[A\n",
            "Epoch 46: train_loss=0.77420, test_loss=0.73573, test_acc=0.745:  90%|| 45/50 [17:46<01:55, 23.11s/it]\u001b[A\n",
            "Epoch 46: train_loss=0.77420, test_loss=0.73573, test_acc=0.745:  92%|| 46/50 [17:46<01:32, 23.16s/it]\u001b[A\n",
            "Epoch 47: train_loss=0.77206, test_loss=0.73721, test_acc=0.743:  92%|| 46/50 [18:10<01:32, 23.16s/it]\u001b[A\n",
            "Epoch 47: train_loss=0.77206, test_loss=0.73721, test_acc=0.743:  94%|| 47/50 [18:10<01:10, 23.48s/it]\u001b[A\n",
            "Epoch 48: train_loss=0.77402, test_loss=0.74081, test_acc=0.742:  94%|| 47/50 [18:33<01:10, 23.48s/it]\u001b[A\n",
            "Epoch 48: train_loss=0.77402, test_loss=0.74081, test_acc=0.742:  96%|| 48/50 [18:33<00:46, 23.41s/it]\u001b[A\n",
            "Epoch 49: train_loss=0.77305, test_loss=0.73153, test_acc=0.742:  96%|| 48/50 [18:56<00:46, 23.41s/it]\u001b[A\n",
            "Epoch 49: train_loss=0.77305, test_loss=0.73153, test_acc=0.742:  98%|| 49/50 [18:56<00:23, 23.15s/it]\u001b[A\n",
            "Epoch 50: train_loss=0.77300, test_loss=0.73119, test_acc=0.742:  98%|| 49/50 [19:19<00:23, 23.15s/it]\u001b[A\n",
            "Epoch 50: train_loss=0.77300, test_loss=0.73119, test_acc=0.742: 100%|| 50/50 [19:19<00:00, 23.19s/it]\n"
          ]
        },
        {
          "output_type": "stream",
          "name": "stdout",
          "text": [
            "[I 2023-06-08 16:27:47,738] Trial 3 finished with value: 0.7422 and parameters: {'lr': 0.00026545625449584694, 'optimizer': 'Adam'}. Best is trial 0 with value: 0.8009.\n",
            "Optuna current parameters: [('lr', 0.0022279076272493843), ('optimizer_name', 'AdamW')]\n"
          ]
        },
        {
          "output_type": "stream",
          "name": "stderr",
          "text": [
            "\n",
            "Epoch X: train_loss=X, dev_loss=X, dev_acc=X:   0%|| 0/50 [00:00<?, ?it/s]\u001b[A\n",
            "Epoch 1: train_loss=1.64742, test_loss=1.39278, test_acc=0.507:   0%|| 0/50 [00:23<?, ?it/s]\u001b[A\n",
            "Epoch 1: train_loss=1.64742, test_loss=1.39278, test_acc=0.507:   2%|| 1/50 [00:23<18:57, 23.21s/it]\u001b[A\n",
            "Epoch 2: train_loss=1.28248, test_loss=1.18104, test_acc=0.588:   2%|| 1/50 [00:46<18:57, 23.21s/it]\u001b[A\n",
            "Epoch 2: train_loss=1.28248, test_loss=1.18104, test_acc=0.588:   4%|| 2/50 [00:46<18:34, 23.21s/it]\u001b[A\n",
            "Epoch 3: train_loss=1.12178, test_loss=1.09291, test_acc=0.613:   4%|| 2/50 [01:09<18:34, 23.21s/it]\u001b[A\n",
            "Epoch 3: train_loss=1.12178, test_loss=1.09291, test_acc=0.613:   6%|| 3/50 [01:09<18:08, 23.17s/it]\u001b[A\n",
            "Epoch 4: train_loss=1.01896, test_loss=1.00971, test_acc=0.651:   6%|| 3/50 [01:32<18:08, 23.17s/it]\u001b[A\n",
            "Epoch 4: train_loss=1.01896, test_loss=1.00971, test_acc=0.651:   8%|| 4/50 [01:32<17:49, 23.26s/it]\u001b[A\n",
            "Epoch 5: train_loss=0.96392, test_loss=0.99738, test_acc=0.654:   8%|| 4/50 [01:56<17:49, 23.26s/it]\u001b[A\n",
            "Epoch 5: train_loss=0.96392, test_loss=0.99738, test_acc=0.654:  10%|| 5/50 [01:56<17:24, 23.20s/it]\u001b[A\n",
            "Epoch 6: train_loss=0.86854, test_loss=0.81135, test_acc=0.718:  10%|| 5/50 [02:18<17:24, 23.20s/it]\u001b[A\n",
            "Epoch 6: train_loss=0.86854, test_loss=0.81135, test_acc=0.718:  12%|| 6/50 [02:18<16:55, 23.08s/it]\u001b[A\n",
            "Epoch 7: train_loss=0.82631, test_loss=0.78003, test_acc=0.724:  12%|| 6/50 [02:41<16:55, 23.08s/it]\u001b[A\n",
            "Epoch 7: train_loss=0.82631, test_loss=0.78003, test_acc=0.724:  14%|| 7/50 [02:41<16:31, 23.07s/it]\u001b[A\n",
            "Epoch 8: train_loss=0.79535, test_loss=0.73920, test_acc=0.743:  14%|| 7/50 [03:05<16:31, 23.07s/it]\u001b[A\n",
            "Epoch 8: train_loss=0.79535, test_loss=0.73920, test_acc=0.743:  16%|| 8/50 [03:05<16:10, 23.11s/it]\u001b[A\n",
            "Epoch 9: train_loss=0.77841, test_loss=0.74112, test_acc=0.745:  16%|| 8/50 [03:28<16:10, 23.11s/it]\u001b[A\n",
            "Epoch 9: train_loss=0.77841, test_loss=0.74112, test_acc=0.745:  18%|| 9/50 [03:28<15:48, 23.12s/it]\u001b[A\n",
            "Epoch 10: train_loss=0.75527, test_loss=0.72475, test_acc=0.751:  18%|| 9/50 [03:52<15:48, 23.12s/it]\u001b[A\n",
            "Epoch 10: train_loss=0.75527, test_loss=0.72475, test_acc=0.751:  20%|| 10/50 [03:52<15:34, 23.37s/it]\u001b[A\n",
            "Epoch 11: train_loss=0.71479, test_loss=0.70086, test_acc=0.760:  20%|| 10/50 [04:15<15:34, 23.37s/it]\u001b[A\n",
            "Epoch 11: train_loss=0.71479, test_loss=0.70086, test_acc=0.760:  22%|| 11/50 [04:15<15:12, 23.39s/it]\u001b[A\n",
            "Epoch 12: train_loss=0.69616, test_loss=0.67673, test_acc=0.766:  22%|| 11/50 [04:38<15:12, 23.39s/it]\u001b[A\n",
            "Epoch 12: train_loss=0.69616, test_loss=0.67673, test_acc=0.766:  24%|| 12/50 [04:38<14:46, 23.33s/it]\u001b[A\n",
            "Epoch 13: train_loss=0.68536, test_loss=0.67606, test_acc=0.770:  24%|| 12/50 [05:01<14:46, 23.33s/it]\u001b[A\n",
            "Epoch 13: train_loss=0.68536, test_loss=0.67606, test_acc=0.770:  26%|| 13/50 [05:01<14:18, 23.19s/it]\u001b[A\n",
            "Epoch 14: train_loss=0.67995, test_loss=0.66036, test_acc=0.774:  26%|| 13/50 [05:24<14:18, 23.19s/it]\u001b[A\n",
            "Epoch 14: train_loss=0.67995, test_loss=0.66036, test_acc=0.774:  28%|| 14/50 [05:24<13:51, 23.10s/it]\u001b[A\n",
            "Epoch 15: train_loss=0.66397, test_loss=0.68444, test_acc=0.765:  28%|| 14/50 [05:47<13:51, 23.10s/it]\u001b[A\n",
            "Epoch 15: train_loss=0.66397, test_loss=0.68444, test_acc=0.765:  30%|| 15/50 [05:47<13:28, 23.11s/it]\u001b[A\n",
            "Epoch 16: train_loss=0.64724, test_loss=0.64618, test_acc=0.784:  30%|| 15/50 [06:10<13:28, 23.11s/it]\u001b[A\n",
            "Epoch 16: train_loss=0.64724, test_loss=0.64618, test_acc=0.784:  32%|| 16/50 [06:10<13:05, 23.11s/it]\u001b[A\n",
            "Epoch 17: train_loss=0.63804, test_loss=0.63797, test_acc=0.783:  32%|| 16/50 [06:33<13:05, 23.11s/it]\u001b[A\n",
            "Epoch 17: train_loss=0.63804, test_loss=0.63797, test_acc=0.783:  34%|| 17/50 [06:33<12:43, 23.13s/it]\u001b[A\n",
            "Epoch 18: train_loss=0.63299, test_loss=0.63564, test_acc=0.784:  34%|| 17/50 [06:57<12:43, 23.13s/it]\u001b[A\n",
            "Epoch 18: train_loss=0.63299, test_loss=0.63564, test_acc=0.784:  36%|| 18/50 [06:57<12:20, 23.15s/it]\u001b[A\n",
            "Epoch 19: train_loss=0.62513, test_loss=0.62063, test_acc=0.789:  36%|| 18/50 [07:20<12:20, 23.15s/it]\u001b[A\n",
            "Epoch 19: train_loss=0.62513, test_loss=0.62063, test_acc=0.789:  38%|| 19/50 [07:20<11:57, 23.14s/it]\u001b[A\n",
            "Epoch 20: train_loss=0.62167, test_loss=0.63636, test_acc=0.785:  38%|| 19/50 [07:43<11:57, 23.14s/it]\u001b[A\n",
            "Epoch 20: train_loss=0.62167, test_loss=0.63636, test_acc=0.785:  40%|| 20/50 [07:43<11:33, 23.11s/it]\u001b[A\n",
            "Epoch 21: train_loss=0.60941, test_loss=0.61605, test_acc=0.793:  40%|| 20/50 [08:05<11:33, 23.11s/it]\u001b[A\n",
            "Epoch 21: train_loss=0.60941, test_loss=0.61605, test_acc=0.793:  42%|| 21/50 [08:05<11:04, 22.90s/it]\u001b[A\n",
            "Epoch 22: train_loss=0.60656, test_loss=0.60280, test_acc=0.793:  42%|| 21/50 [08:28<11:04, 22.90s/it]\u001b[A\n",
            "Epoch 22: train_loss=0.60656, test_loss=0.60280, test_acc=0.793:  44%|| 22/50 [08:28<10:43, 22.99s/it]\u001b[A\n",
            "Epoch 23: train_loss=0.60160, test_loss=0.60529, test_acc=0.792:  44%|| 22/50 [08:51<10:43, 22.99s/it]\u001b[A\n",
            "Epoch 23: train_loss=0.60160, test_loss=0.60529, test_acc=0.792:  46%|| 23/50 [08:51<10:20, 22.98s/it]\u001b[A\n",
            "Epoch 24: train_loss=0.60037, test_loss=0.60216, test_acc=0.793:  46%|| 23/50 [09:16<10:20, 22.98s/it]\u001b[A\n",
            "Epoch 24: train_loss=0.60037, test_loss=0.60216, test_acc=0.793:  48%|| 24/50 [09:16<10:06, 23.33s/it]\u001b[A\n",
            "Epoch 25: train_loss=0.59586, test_loss=0.59506, test_acc=0.790:  48%|| 24/50 [09:39<10:06, 23.33s/it]\u001b[A\n",
            "Epoch 25: train_loss=0.59586, test_loss=0.59506, test_acc=0.790:  50%|| 25/50 [09:39<09:42, 23.30s/it]\u001b[A\n",
            "Epoch 26: train_loss=0.59491, test_loss=0.59687, test_acc=0.797:  50%|| 25/50 [10:02<09:42, 23.30s/it]\u001b[A\n",
            "Epoch 26: train_loss=0.59491, test_loss=0.59687, test_acc=0.797:  52%|| 26/50 [10:02<09:17, 23.21s/it]\u001b[A\n",
            "Epoch 27: train_loss=0.58856, test_loss=0.60004, test_acc=0.797:  52%|| 26/50 [10:25<09:17, 23.21s/it]\u001b[A\n",
            "Epoch 27: train_loss=0.58856, test_loss=0.60004, test_acc=0.797:  54%|| 27/50 [10:25<08:54, 23.23s/it]\u001b[A\n",
            "Epoch 28: train_loss=0.58870, test_loss=0.59488, test_acc=0.795:  54%|| 27/50 [10:48<08:54, 23.23s/it]\u001b[A\n",
            "Epoch 28: train_loss=0.58870, test_loss=0.59488, test_acc=0.795:  56%|| 28/50 [10:48<08:27, 23.05s/it]\u001b[A\n",
            "Epoch 29: train_loss=0.58864, test_loss=0.59542, test_acc=0.796:  56%|| 28/50 [11:11<08:27, 23.05s/it]\u001b[A\n",
            "Epoch 29: train_loss=0.58864, test_loss=0.59542, test_acc=0.796:  58%|| 29/50 [11:11<08:02, 23.00s/it]\u001b[A\n",
            "Epoch 30: train_loss=0.58564, test_loss=0.59837, test_acc=0.793:  58%|| 29/50 [11:34<08:02, 23.00s/it]\u001b[A\n",
            "Epoch 30: train_loss=0.58564, test_loss=0.59837, test_acc=0.793:  60%|| 30/50 [11:34<07:40, 23.03s/it]\u001b[A\n",
            "Epoch 31: train_loss=0.57670, test_loss=0.59288, test_acc=0.804:  60%|| 30/50 [11:57<07:40, 23.03s/it]\u001b[A\n",
            "Epoch 31: train_loss=0.57670, test_loss=0.59288, test_acc=0.804:  62%|| 31/50 [11:57<07:18, 23.06s/it]\u001b[A\n",
            "Epoch 32: train_loss=0.57602, test_loss=0.58731, test_acc=0.798:  62%|| 31/50 [12:20<07:18, 23.06s/it]\u001b[A\n",
            "Epoch 32: train_loss=0.57602, test_loss=0.58731, test_acc=0.798:  64%|| 32/50 [12:20<06:56, 23.13s/it]\u001b[A\n",
            "Epoch 33: train_loss=0.57792, test_loss=0.59184, test_acc=0.803:  64%|| 32/50 [12:43<06:56, 23.13s/it]\u001b[A\n",
            "Epoch 33: train_loss=0.57792, test_loss=0.59184, test_acc=0.803:  66%|| 33/50 [12:43<06:33, 23.13s/it]\u001b[A\n",
            "Epoch 34: train_loss=0.57903, test_loss=0.58836, test_acc=0.793:  66%|| 33/50 [13:06<06:33, 23.13s/it]\u001b[A\n",
            "Epoch 34: train_loss=0.57903, test_loss=0.58836, test_acc=0.793:  68%|| 34/50 [13:06<06:09, 23.10s/it]\u001b[A\n",
            "Epoch 35: train_loss=0.57534, test_loss=0.58727, test_acc=0.800:  68%|| 34/50 [13:29<06:09, 23.10s/it]\u001b[A\n",
            "Epoch 35: train_loss=0.57534, test_loss=0.58727, test_acc=0.800:  70%|| 35/50 [13:29<05:46, 23.07s/it]\u001b[A\n",
            "Epoch 36: train_loss=0.57411, test_loss=0.58971, test_acc=0.795:  70%|| 35/50 [13:52<05:46, 23.07s/it]\u001b[A\n",
            "Epoch 36: train_loss=0.57411, test_loss=0.58971, test_acc=0.795:  72%|| 36/50 [13:52<05:22, 23.00s/it]\u001b[A\n",
            "Epoch 37: train_loss=0.57387, test_loss=0.59201, test_acc=0.799:  72%|| 36/50 [14:16<05:22, 23.00s/it]\u001b[A\n",
            "Epoch 37: train_loss=0.57387, test_loss=0.59201, test_acc=0.799:  74%|| 37/50 [14:16<05:03, 23.34s/it]\u001b[A\n",
            "Epoch 38: train_loss=0.57425, test_loss=0.58698, test_acc=0.797:  74%|| 37/50 [14:39<05:03, 23.34s/it]\u001b[A\n",
            "Epoch 38: train_loss=0.57425, test_loss=0.58698, test_acc=0.797:  76%|| 38/50 [14:39<04:39, 23.28s/it]\u001b[A\n",
            "Epoch 39: train_loss=0.57488, test_loss=0.58696, test_acc=0.800:  76%|| 38/50 [15:03<04:39, 23.28s/it]\u001b[A\n",
            "Epoch 39: train_loss=0.57488, test_loss=0.58696, test_acc=0.800:  78%|| 39/50 [15:03<04:16, 23.31s/it]\u001b[A\n",
            "Epoch 40: train_loss=0.57417, test_loss=0.57821, test_acc=0.800:  78%|| 39/50 [15:26<04:16, 23.31s/it]\u001b[A\n",
            "Epoch 40: train_loss=0.57417, test_loss=0.57821, test_acc=0.800:  80%|| 40/50 [15:26<03:52, 23.27s/it]\u001b[A\n",
            "Epoch 41: train_loss=0.57064, test_loss=0.59619, test_acc=0.801:  80%|| 40/50 [15:49<03:52, 23.27s/it]\u001b[A\n",
            "Epoch 41: train_loss=0.57064, test_loss=0.59619, test_acc=0.801:  82%|| 41/50 [15:49<03:29, 23.25s/it]\u001b[A\n",
            "Epoch 42: train_loss=0.57574, test_loss=0.58969, test_acc=0.801:  82%|| 41/50 [16:13<03:29, 23.25s/it]\u001b[A\n",
            "Epoch 42: train_loss=0.57574, test_loss=0.58969, test_acc=0.801:  84%|| 42/50 [16:13<03:06, 23.31s/it]\u001b[A\n",
            "Epoch 43: train_loss=0.57146, test_loss=0.58564, test_acc=0.796:  84%|| 42/50 [16:35<03:06, 23.31s/it]\u001b[A\n",
            "Epoch 43: train_loss=0.57146, test_loss=0.58564, test_acc=0.796:  86%|| 43/50 [16:35<02:41, 23.09s/it]\u001b[A\n",
            "Epoch 44: train_loss=0.57013, test_loss=0.58886, test_acc=0.798:  86%|| 43/50 [16:58<02:41, 23.09s/it]\u001b[A\n",
            "Epoch 44: train_loss=0.57013, test_loss=0.58886, test_acc=0.798:  88%|| 44/50 [16:58<02:18, 23.08s/it]\u001b[A\n",
            "Epoch 45: train_loss=0.57549, test_loss=0.58376, test_acc=0.795:  88%|| 44/50 [17:21<02:18, 23.08s/it]\u001b[A\n",
            "Epoch 45: train_loss=0.57549, test_loss=0.58376, test_acc=0.795:  90%|| 45/50 [17:21<01:55, 23.05s/it]\u001b[A\n",
            "Epoch 46: train_loss=0.56827, test_loss=0.58543, test_acc=0.800:  90%|| 45/50 [17:44<01:55, 23.05s/it]\u001b[A\n",
            "Epoch 46: train_loss=0.56827, test_loss=0.58543, test_acc=0.800:  92%|| 46/50 [17:44<01:32, 23.10s/it]\u001b[A\n",
            "Epoch 47: train_loss=0.57097, test_loss=0.57766, test_acc=0.804:  92%|| 46/50 [18:07<01:32, 23.10s/it]\u001b[A\n",
            "Epoch 47: train_loss=0.57097, test_loss=0.57766, test_acc=0.804:  94%|| 47/50 [18:07<01:09, 23.07s/it]\u001b[A\n",
            "Epoch 48: train_loss=0.57347, test_loss=0.58884, test_acc=0.799:  94%|| 47/50 [18:31<01:09, 23.07s/it]\u001b[A\n",
            "Epoch 48: train_loss=0.57347, test_loss=0.58884, test_acc=0.799:  96%|| 48/50 [18:31<00:46, 23.12s/it]\u001b[A\n",
            "Epoch 49: train_loss=0.57136, test_loss=0.58373, test_acc=0.802:  96%|| 48/50 [18:54<00:46, 23.12s/it]\u001b[A\n",
            "Epoch 49: train_loss=0.57136, test_loss=0.58373, test_acc=0.802:  98%|| 49/50 [18:54<00:23, 23.15s/it]\u001b[A\n",
            "Epoch 50: train_loss=0.56998, test_loss=0.58387, test_acc=0.797:  98%|| 49/50 [19:18<00:23, 23.15s/it]\u001b[A\n",
            "Epoch 50: train_loss=0.56998, test_loss=0.58387, test_acc=0.797: 100%|| 50/50 [19:18<00:00, 23.16s/it]\n"
          ]
        },
        {
          "output_type": "stream",
          "name": "stdout",
          "text": [
            "[I 2023-06-08 16:47:05,870] Trial 4 finished with value: 0.7973 and parameters: {'lr': 0.0022279076272493843, 'optimizer': 'AdamW'}. Best is trial 0 with value: 0.8009.\n",
            "Optuna current parameters: [('lr', 0.00836294951482303), ('optimizer_name', 'Adam')]\n"
          ]
        },
        {
          "output_type": "stream",
          "name": "stderr",
          "text": [
            "\n",
            "Epoch X: train_loss=X, dev_loss=X, dev_acc=X:   0%|| 0/50 [00:00<?, ?it/s]\u001b[A\n",
            "Epoch 1: train_loss=2.27128, test_loss=2.01771, test_acc=0.329:   0%|| 0/50 [00:22<?, ?it/s]\n"
          ]
        },
        {
          "output_type": "stream",
          "name": "stdout",
          "text": [
            "[I 2023-06-08 16:47:28,596] Trial 5 pruned. \n",
            "Optuna current parameters: [('lr', 0.0009051970994668778), ('optimizer_name', 'AdamW')]\n"
          ]
        },
        {
          "output_type": "stream",
          "name": "stderr",
          "text": [
            "\n",
            "Epoch X: train_loss=X, dev_loss=X, dev_acc=X:   0%|| 0/50 [00:00<?, ?it/s]\u001b[A\n",
            "Epoch 1: train_loss=1.64801, test_loss=1.29473, test_acc=0.538:   0%|| 0/50 [00:23<?, ?it/s]\u001b[A\n",
            "Epoch 1: train_loss=1.64801, test_loss=1.29473, test_acc=0.538:   2%|| 1/50 [00:23<19:01, 23.30s/it]\u001b[A\n",
            "Epoch 2: train_loss=1.24440, test_loss=1.13933, test_acc=0.586:   2%|| 1/50 [00:46<19:01, 23.30s/it]\u001b[A\n",
            "Epoch 2: train_loss=1.24440, test_loss=1.13933, test_acc=0.586:   4%|| 2/50 [00:46<18:37, 23.28s/it]\u001b[A\n",
            "Epoch 3: train_loss=1.07833, test_loss=0.98049, test_acc=0.651:   4%|| 2/50 [01:09<18:37, 23.28s/it]\u001b[A\n",
            "Epoch 3: train_loss=1.07833, test_loss=0.98049, test_acc=0.651:   6%|| 3/50 [01:09<18:10, 23.21s/it]\u001b[A\n",
            "Epoch 4: train_loss=0.98836, test_loss=0.88903, test_acc=0.685:   6%|| 3/50 [01:32<18:10, 23.21s/it]\u001b[A\n",
            "Epoch 4: train_loss=0.98836, test_loss=0.88903, test_acc=0.685:   8%|| 4/50 [01:32<17:44, 23.14s/it]\u001b[A\n",
            "Epoch 5: train_loss=0.91201, test_loss=0.83596, test_acc=0.701:   8%|| 4/50 [01:56<17:44, 23.14s/it]\u001b[A\n",
            "Epoch 5: train_loss=0.91201, test_loss=0.83596, test_acc=0.701:  10%|| 5/50 [01:56<17:24, 23.21s/it]\u001b[A\n",
            "Epoch 6: train_loss=0.83957, test_loss=0.77760, test_acc=0.726:  10%|| 5/50 [02:19<17:24, 23.21s/it]\u001b[A\n",
            "Epoch 6: train_loss=0.83957, test_loss=0.77760, test_acc=0.726:  12%|| 6/50 [02:19<16:57, 23.12s/it]\u001b[A\n",
            "Epoch 7: train_loss=0.80190, test_loss=0.74754, test_acc=0.737:  12%|| 6/50 [02:41<16:57, 23.12s/it]\u001b[A\n",
            "Epoch 7: train_loss=0.80190, test_loss=0.74754, test_acc=0.737:  14%|| 7/50 [02:41<16:27, 22.96s/it]\u001b[A\n",
            "Epoch 8: train_loss=0.78493, test_loss=0.73042, test_acc=0.742:  14%|| 7/50 [03:04<16:27, 22.96s/it]\u001b[A\n",
            "Epoch 8: train_loss=0.78493, test_loss=0.73042, test_acc=0.742:  16%|| 8/50 [03:04<16:07, 23.04s/it]\u001b[A\n",
            "Epoch 9: train_loss=0.75320, test_loss=0.72306, test_acc=0.753:  16%|| 8/50 [03:28<16:07, 23.04s/it]\u001b[A\n",
            "Epoch 9: train_loss=0.75320, test_loss=0.72306, test_acc=0.753:  18%|| 9/50 [03:28<15:47, 23.11s/it]\u001b[A\n",
            "Epoch 10: train_loss=0.74122, test_loss=0.75061, test_acc=0.746:  18%|| 9/50 [03:51<15:47, 23.11s/it]\u001b[A\n",
            "Epoch 10: train_loss=0.74122, test_loss=0.75061, test_acc=0.746:  20%|| 10/50 [03:51<15:23, 23.09s/it]\u001b[A\n",
            "Epoch 11: train_loss=0.71610, test_loss=0.67003, test_acc=0.764:  20%|| 10/50 [04:14<15:23, 23.09s/it]\u001b[A\n",
            "Epoch 11: train_loss=0.71610, test_loss=0.67003, test_acc=0.764:  22%|| 11/50 [04:14<15:00, 23.08s/it]\u001b[A\n",
            "Epoch 12: train_loss=0.69750, test_loss=0.66238, test_acc=0.767:  22%|| 11/50 [04:38<15:00, 23.08s/it]\u001b[A\n",
            "Epoch 12: train_loss=0.69750, test_loss=0.66238, test_acc=0.767:  24%|| 12/50 [04:38<14:47, 23.36s/it]\u001b[A\n",
            "Epoch 13: train_loss=0.68559, test_loss=0.66542, test_acc=0.771:  24%|| 12/50 [05:01<14:47, 23.36s/it]\u001b[A\n",
            "Epoch 13: train_loss=0.68559, test_loss=0.66542, test_acc=0.771:  26%|| 13/50 [05:01<14:23, 23.34s/it]\u001b[A\n",
            "Epoch 14: train_loss=0.67293, test_loss=0.65292, test_acc=0.775:  26%|| 13/50 [05:24<14:23, 23.34s/it]\u001b[A\n",
            "Epoch 14: train_loss=0.67293, test_loss=0.65292, test_acc=0.775:  28%|| 14/50 [05:24<13:53, 23.17s/it]\u001b[A\n",
            "Epoch 15: train_loss=0.66690, test_loss=0.65179, test_acc=0.774:  28%|| 14/50 [05:47<13:53, 23.17s/it]\u001b[A\n",
            "Epoch 15: train_loss=0.66690, test_loss=0.65179, test_acc=0.774:  30%|| 15/50 [05:47<13:27, 23.08s/it]\u001b[A\n",
            "Epoch 16: train_loss=0.65114, test_loss=0.64066, test_acc=0.777:  30%|| 15/50 [06:10<13:27, 23.08s/it]\u001b[A\n",
            "Epoch 16: train_loss=0.65114, test_loss=0.64066, test_acc=0.777:  32%|| 16/50 [06:10<13:06, 23.14s/it]\u001b[A\n",
            "Epoch 17: train_loss=0.64464, test_loss=0.63963, test_acc=0.779:  32%|| 16/50 [06:33<13:06, 23.14s/it]\u001b[A\n",
            "Epoch 17: train_loss=0.64464, test_loss=0.63963, test_acc=0.779:  34%|| 17/50 [06:33<12:42, 23.10s/it]\u001b[A\n",
            "Epoch 18: train_loss=0.64200, test_loss=0.63115, test_acc=0.781:  34%|| 17/50 [06:56<12:42, 23.10s/it]\u001b[A\n",
            "Epoch 18: train_loss=0.64200, test_loss=0.63115, test_acc=0.781:  36%|| 18/50 [06:56<12:20, 23.15s/it]\u001b[A\n",
            "Epoch 19: train_loss=0.63596, test_loss=0.62474, test_acc=0.780:  36%|| 18/50 [07:19<12:20, 23.15s/it]\u001b[A\n",
            "Epoch 19: train_loss=0.63596, test_loss=0.62474, test_acc=0.780:  38%|| 19/50 [07:19<11:57, 23.13s/it]\u001b[A\n",
            "Epoch 20: train_loss=0.63196, test_loss=0.62618, test_acc=0.783:  38%|| 19/50 [07:43<11:57, 23.13s/it]\u001b[A\n",
            "Epoch 20: train_loss=0.63196, test_loss=0.62618, test_acc=0.783:  40%|| 20/50 [07:43<11:35, 23.18s/it]\u001b[A\n",
            "Epoch 21: train_loss=0.62673, test_loss=0.62877, test_acc=0.784:  40%|| 20/50 [08:05<11:35, 23.18s/it]\u001b[A\n",
            "Epoch 21: train_loss=0.62673, test_loss=0.62877, test_acc=0.784:  42%|| 21/50 [08:05<11:06, 22.99s/it]\u001b[A\n",
            "Epoch 22: train_loss=0.62360, test_loss=0.62281, test_acc=0.786:  42%|| 21/50 [08:28<11:06, 22.99s/it]\u001b[A\n",
            "Epoch 22: train_loss=0.62360, test_loss=0.62281, test_acc=0.786:  44%|| 22/50 [08:28<10:43, 22.97s/it]\u001b[A\n",
            "Epoch 23: train_loss=0.61913, test_loss=0.60904, test_acc=0.787:  44%|| 22/50 [08:51<10:43, 22.97s/it]\u001b[A\n",
            "Epoch 23: train_loss=0.61913, test_loss=0.60904, test_acc=0.787:  46%|| 23/50 [08:51<10:22, 23.06s/it]\u001b[A\n",
            "Epoch 24: train_loss=0.61700, test_loss=0.62171, test_acc=0.785:  46%|| 23/50 [09:15<10:22, 23.06s/it]\u001b[A\n",
            "Epoch 24: train_loss=0.61700, test_loss=0.62171, test_acc=0.785:  48%|| 24/50 [09:15<10:06, 23.33s/it]\u001b[A\n",
            "Epoch 25: train_loss=0.61055, test_loss=0.60329, test_acc=0.794:  48%|| 24/50 [09:38<10:06, 23.33s/it]\u001b[A\n",
            "Epoch 25: train_loss=0.61055, test_loss=0.60329, test_acc=0.794:  50%|| 25/50 [09:39<09:42, 23.29s/it]\u001b[A\n",
            "Epoch 26: train_loss=0.60878, test_loss=0.59933, test_acc=0.793:  50%|| 25/50 [10:02<09:42, 23.29s/it]\u001b[A\n",
            "Epoch 26: train_loss=0.60878, test_loss=0.59933, test_acc=0.793:  52%|| 26/50 [10:02<09:19, 23.30s/it]\u001b[A\n",
            "Epoch 27: train_loss=0.60803, test_loss=0.60789, test_acc=0.792:  52%|| 26/50 [10:25<09:19, 23.30s/it]\u001b[A\n",
            "Epoch 27: train_loss=0.60803, test_loss=0.60789, test_acc=0.792:  54%|| 27/50 [10:25<08:54, 23.25s/it]\u001b[A\n",
            "Epoch 28: train_loss=0.61030, test_loss=0.60791, test_acc=0.792:  54%|| 27/50 [10:48<08:54, 23.25s/it]\u001b[A\n",
            "Epoch 28: train_loss=0.61030, test_loss=0.60791, test_acc=0.792:  56%|| 28/50 [10:48<08:31, 23.27s/it]\u001b[A\n",
            "Epoch 29: train_loss=0.59930, test_loss=0.61335, test_acc=0.790:  56%|| 28/50 [11:11<08:31, 23.27s/it]\u001b[A\n",
            "Epoch 29: train_loss=0.59930, test_loss=0.61335, test_acc=0.790:  58%|| 29/50 [11:11<08:03, 23.02s/it]\u001b[A\n",
            "Epoch 30: train_loss=0.60465, test_loss=0.60178, test_acc=0.789:  58%|| 29/50 [11:34<08:03, 23.02s/it]\u001b[A\n",
            "Epoch 30: train_loss=0.60465, test_loss=0.60178, test_acc=0.789:  60%|| 30/50 [11:34<07:42, 23.12s/it]\u001b[A\n",
            "Epoch 31: train_loss=0.59662, test_loss=0.60117, test_acc=0.792:  60%|| 30/50 [11:57<07:42, 23.12s/it]\u001b[A\n",
            "Epoch 31: train_loss=0.59662, test_loss=0.60117, test_acc=0.792:  62%|| 31/50 [11:57<07:18, 23.09s/it]\u001b[A\n",
            "Epoch 32: train_loss=0.60291, test_loss=0.60068, test_acc=0.792:  62%|| 31/50 [12:20<07:18, 23.09s/it]\u001b[A\n",
            "Epoch 32: train_loss=0.60291, test_loss=0.60068, test_acc=0.792:  64%|| 32/50 [12:20<06:55, 23.11s/it]\u001b[A\n",
            "Epoch 33: train_loss=0.59899, test_loss=0.60598, test_acc=0.794:  64%|| 32/50 [12:44<06:55, 23.11s/it]\u001b[A\n",
            "Epoch 33: train_loss=0.59899, test_loss=0.60598, test_acc=0.794:  66%|| 33/50 [12:44<06:33, 23.17s/it]\u001b[A\n",
            "Epoch 34: train_loss=0.59718, test_loss=0.60381, test_acc=0.793:  66%|| 33/50 [13:07<06:33, 23.17s/it]\u001b[A\n",
            "Epoch 34: train_loss=0.59718, test_loss=0.60381, test_acc=0.793:  68%|| 34/50 [13:07<06:11, 23.20s/it]\u001b[A\n",
            "Epoch 35: train_loss=0.59863, test_loss=0.60329, test_acc=0.791:  68%|| 34/50 [13:30<06:11, 23.20s/it]\u001b[A\n",
            "Epoch 35: train_loss=0.59863, test_loss=0.60329, test_acc=0.791:  70%|| 35/50 [13:30<05:47, 23.17s/it]\u001b[A\n",
            "Epoch 36: train_loss=0.59378, test_loss=0.60451, test_acc=0.787:  70%|| 35/50 [13:53<05:47, 23.17s/it]\u001b[A\n",
            "Epoch 36: train_loss=0.59378, test_loss=0.60451, test_acc=0.787:  72%|| 36/50 [13:53<05:23, 23.13s/it]\u001b[A\n",
            "Epoch 37: train_loss=0.59734, test_loss=0.60951, test_acc=0.785:  72%|| 36/50 [14:16<05:23, 23.13s/it]\u001b[A\n",
            "Epoch 37: train_loss=0.59734, test_loss=0.60951, test_acc=0.785:  74%|| 37/50 [14:16<05:01, 23.23s/it]\u001b[A\n",
            "Epoch 38: train_loss=0.60098, test_loss=0.59707, test_acc=0.791:  74%|| 37/50 [14:40<05:01, 23.23s/it]\u001b[A\n",
            "Epoch 38: train_loss=0.60098, test_loss=0.59707, test_acc=0.791:  76%|| 38/50 [14:40<04:38, 23.21s/it]\u001b[A\n",
            "Epoch 39: train_loss=0.59602, test_loss=0.60232, test_acc=0.793:  76%|| 38/50 [15:03<04:38, 23.21s/it]\u001b[A\n",
            "Epoch 39: train_loss=0.59602, test_loss=0.60232, test_acc=0.793:  78%|| 39/50 [15:03<04:15, 23.19s/it]\u001b[A\n",
            "Epoch 40: train_loss=0.59965, test_loss=0.60898, test_acc=0.791:  78%|| 39/50 [15:26<04:15, 23.19s/it]\u001b[A\n",
            "Epoch 40: train_loss=0.59965, test_loss=0.60898, test_acc=0.791:  80%|| 40/50 [15:26<03:52, 23.25s/it]\u001b[A\n",
            "Epoch 41: train_loss=0.59438, test_loss=0.60637, test_acc=0.791:  80%|| 40/50 [15:49<03:52, 23.25s/it]\u001b[A\n",
            "Epoch 41: train_loss=0.59438, test_loss=0.60637, test_acc=0.791:  82%|| 41/50 [15:49<03:29, 23.27s/it]\u001b[A\n",
            "Epoch 42: train_loss=0.59774, test_loss=0.60386, test_acc=0.789:  82%|| 41/50 [16:12<03:29, 23.27s/it]\u001b[A\n",
            "Epoch 42: train_loss=0.59774, test_loss=0.60386, test_acc=0.789:  84%|| 42/50 [16:12<03:05, 23.17s/it]\u001b[A\n",
            "Epoch 43: train_loss=0.59511, test_loss=0.60453, test_acc=0.790:  84%|| 42/50 [16:36<03:05, 23.17s/it]\u001b[A\n",
            "Epoch 43: train_loss=0.59511, test_loss=0.60453, test_acc=0.790:  86%|| 43/50 [16:36<02:42, 23.22s/it]\u001b[A\n",
            "Epoch 44: train_loss=0.59281, test_loss=0.60775, test_acc=0.792:  86%|| 43/50 [16:58<02:42, 23.22s/it]\u001b[A\n",
            "Epoch 44: train_loss=0.59281, test_loss=0.60775, test_acc=0.792:  88%|| 44/50 [16:58<02:17, 22.99s/it]\u001b[A\n",
            "Epoch 45: train_loss=0.59432, test_loss=0.60441, test_acc=0.792:  88%|| 44/50 [17:21<02:17, 22.99s/it]\u001b[A\n",
            "Epoch 45: train_loss=0.59432, test_loss=0.60441, test_acc=0.792:  90%|| 45/50 [17:21<01:54, 23.00s/it]\u001b[A\n",
            "Epoch 46: train_loss=0.59413, test_loss=0.60354, test_acc=0.795:  90%|| 45/50 [17:44<01:54, 23.00s/it]\u001b[A\n",
            "Epoch 46: train_loss=0.59413, test_loss=0.60354, test_acc=0.795:  92%|| 46/50 [17:44<01:32, 23.01s/it]\u001b[A\n",
            "Epoch 47: train_loss=0.59613, test_loss=0.59878, test_acc=0.796:  92%|| 46/50 [18:07<01:32, 23.01s/it]\u001b[A\n",
            "Epoch 47: train_loss=0.59613, test_loss=0.59878, test_acc=0.796:  94%|| 47/50 [18:07<01:09, 23.08s/it]\u001b[A\n",
            "Epoch 48: train_loss=0.59132, test_loss=0.59615, test_acc=0.791:  94%|| 47/50 [18:31<01:09, 23.08s/it]\u001b[A\n",
            "Epoch 48: train_loss=0.59132, test_loss=0.59615, test_acc=0.791:  96%|| 48/50 [18:31<00:46, 23.33s/it]\u001b[A\n",
            "Epoch 49: train_loss=0.59511, test_loss=0.59947, test_acc=0.790:  96%|| 48/50 [18:55<00:46, 23.33s/it]\u001b[A\n",
            "Epoch 49: train_loss=0.59511, test_loss=0.59947, test_acc=0.790:  98%|| 49/50 [18:55<00:23, 23.31s/it]\u001b[A\n",
            "Epoch 50: train_loss=0.59532, test_loss=0.61147, test_acc=0.786:  98%|| 49/50 [19:18<00:23, 23.31s/it]\u001b[A\n",
            "Epoch 50: train_loss=0.59532, test_loss=0.61147, test_acc=0.786: 100%|| 50/50 [19:18<00:00, 23.16s/it]\n"
          ]
        },
        {
          "output_type": "stream",
          "name": "stdout",
          "text": [
            "[I 2023-06-08 17:06:46,792] Trial 6 finished with value: 0.7862 and parameters: {'lr': 0.0009051970994668778, 'optimizer': 'AdamW'}. Best is trial 0 with value: 0.8009.\n",
            "Optuna current parameters: [('lr', 0.006864224659847781), ('optimizer_name', 'AdamW')]\n"
          ]
        },
        {
          "output_type": "stream",
          "name": "stderr",
          "text": [
            "\n",
            "Epoch X: train_loss=X, dev_loss=X, dev_acc=X:   0%|| 0/50 [00:00<?, ?it/s]\u001b[A\n",
            "Epoch 1: train_loss=2.14269, test_loss=3.78691, test_acc=0.197:   0%|| 0/50 [00:22<?, ?it/s]\n"
          ]
        },
        {
          "output_type": "stream",
          "name": "stdout",
          "text": [
            "[I 2023-06-08 17:07:09,554] Trial 7 pruned. \n",
            "Optuna current parameters: [('lr', 0.005094739971190146), ('optimizer_name', 'SGD')]\n"
          ]
        },
        {
          "output_type": "stream",
          "name": "stderr",
          "text": [
            "\n",
            "Epoch X: train_loss=X, dev_loss=X, dev_acc=X:   0%|| 0/50 [00:00<?, ?it/s]\u001b[A\n",
            "Epoch 1: train_loss=2.10410, test_loss=1.87528, test_acc=0.313:   0%|| 0/50 [00:22<?, ?it/s]\n"
          ]
        },
        {
          "output_type": "stream",
          "name": "stdout",
          "text": [
            "[I 2023-06-08 17:07:31,956] Trial 8 pruned. \n",
            "Optuna current parameters: [('lr', 0.0018935616687416707), ('optimizer_name', 'SGD')]\n"
          ]
        },
        {
          "output_type": "stream",
          "name": "stderr",
          "text": [
            "\n",
            "Epoch X: train_loss=X, dev_loss=X, dev_acc=X:   0%|| 0/50 [00:00<?, ?it/s]\u001b[A\n",
            "Epoch 1: train_loss=2.26125, test_loss=2.09228, test_acc=0.232:   0%|| 0/50 [00:22<?, ?it/s]\n"
          ]
        },
        {
          "output_type": "stream",
          "name": "stdout",
          "text": [
            "[I 2023-06-08 17:07:54,858] Trial 9 pruned. \n",
            "Optuna current parameters: [('lr', 0.000548541323432575), ('optimizer_name', 'Adam')]\n"
          ]
        },
        {
          "output_type": "stream",
          "name": "stderr",
          "text": [
            "\n",
            "Epoch X: train_loss=X, dev_loss=X, dev_acc=X:   0%|| 0/50 [00:00<?, ?it/s]\u001b[A\n",
            "Epoch 1: train_loss=1.60085, test_loss=1.30097, test_acc=0.536:   0%|| 0/50 [00:22<?, ?it/s]\u001b[A\n",
            "Epoch 1: train_loss=1.60085, test_loss=1.30097, test_acc=0.536:   2%|| 1/50 [00:22<18:45, 22.96s/it]\u001b[A\n",
            "Epoch 2: train_loss=1.25018, test_loss=1.05952, test_acc=0.621:   2%|| 1/50 [00:45<18:45, 22.96s/it]\u001b[A\n",
            "Epoch 2: train_loss=1.25018, test_loss=1.05952, test_acc=0.621:   4%|| 2/50 [00:45<18:22, 22.97s/it]\u001b[A\n",
            "Epoch 3: train_loss=1.10061, test_loss=1.06572, test_acc=0.630:   4%|| 2/50 [01:08<18:22, 22.97s/it]\u001b[A\n",
            "Epoch 3: train_loss=1.10061, test_loss=1.06572, test_acc=0.630:   6%|| 3/50 [01:08<17:55, 22.89s/it]\u001b[A\n",
            "Epoch 4: train_loss=1.01540, test_loss=0.91775, test_acc=0.680:   6%|| 3/50 [01:31<17:55, 22.89s/it]\u001b[A\n",
            "Epoch 4: train_loss=1.01540, test_loss=0.91775, test_acc=0.680:   8%|| 4/50 [01:31<17:35, 22.94s/it]\u001b[A\n",
            "Epoch 5: train_loss=0.94031, test_loss=0.87625, test_acc=0.691:   8%|| 4/50 [01:54<17:35, 22.94s/it]\u001b[A\n",
            "Epoch 5: train_loss=0.94031, test_loss=0.87625, test_acc=0.691:  10%|| 5/50 [01:54<17:04, 22.76s/it]\u001b[A\n",
            "Epoch 6: train_loss=0.88073, test_loss=0.79887, test_acc=0.719:  10%|| 5/50 [02:16<17:04, 22.76s/it]\u001b[A\n",
            "Epoch 6: train_loss=0.88073, test_loss=0.79887, test_acc=0.719:  12%|| 6/50 [02:16<16:41, 22.76s/it]\u001b[A\n",
            "Epoch 7: train_loss=0.84716, test_loss=0.77572, test_acc=0.726:  12%|| 6/50 [02:40<16:41, 22.76s/it]\u001b[A\n",
            "Epoch 7: train_loss=0.84716, test_loss=0.77572, test_acc=0.726:  14%|| 7/50 [02:40<16:35, 23.15s/it]\u001b[A\n",
            "Epoch 8: train_loss=0.83216, test_loss=0.75968, test_acc=0.730:  14%|| 7/50 [03:03<16:35, 23.15s/it]\u001b[A\n",
            "Epoch 8: train_loss=0.83216, test_loss=0.75968, test_acc=0.730:  16%|| 8/50 [03:03<16:07, 23.04s/it]\u001b[A\n",
            "Epoch 9: train_loss=0.80215, test_loss=0.76244, test_acc=0.729:  16%|| 8/50 [03:26<16:07, 23.04s/it]\u001b[A\n",
            "Epoch 9: train_loss=0.80215, test_loss=0.76244, test_acc=0.729:  18%|| 9/50 [03:26<15:42, 22.98s/it]\u001b[A\n",
            "Epoch 10: train_loss=0.78154, test_loss=0.75388, test_acc=0.736:  18%|| 9/50 [03:49<15:42, 22.98s/it]\u001b[A\n",
            "Epoch 10: train_loss=0.78154, test_loss=0.75388, test_acc=0.736:  20%|| 10/50 [03:49<15:16, 22.90s/it]\u001b[A\n",
            "Epoch 11: train_loss=0.75858, test_loss=0.70360, test_acc=0.760:  20%|| 10/50 [04:12<15:16, 22.90s/it]\u001b[A\n",
            "Epoch 11: train_loss=0.75858, test_loss=0.70360, test_acc=0.760:  22%|| 11/50 [04:12<14:51, 22.85s/it]\u001b[A\n",
            "Epoch 12: train_loss=0.74234, test_loss=0.70139, test_acc=0.752:  22%|| 11/50 [04:34<14:51, 22.85s/it]\u001b[A\n",
            "Epoch 12: train_loss=0.74234, test_loss=0.70139, test_acc=0.752:  24%|| 12/50 [04:34<14:21, 22.66s/it]\u001b[A\n",
            "Epoch 13: train_loss=0.73523, test_loss=0.69477, test_acc=0.756:  24%|| 12/50 [04:57<14:21, 22.66s/it]\u001b[A\n",
            "Epoch 13: train_loss=0.73523, test_loss=0.69477, test_acc=0.756:  26%|| 13/50 [04:57<14:00, 22.71s/it]\u001b[A\n",
            "Epoch 14: train_loss=0.72644, test_loss=0.68383, test_acc=0.763:  26%|| 13/50 [05:19<14:00, 22.71s/it]\u001b[A\n",
            "Epoch 14: train_loss=0.72644, test_loss=0.68383, test_acc=0.763:  28%|| 14/50 [05:19<13:37, 22.71s/it]\u001b[A\n",
            "Epoch 15: train_loss=0.71504, test_loss=0.67643, test_acc=0.764:  28%|| 14/50 [05:42<13:37, 22.71s/it]\u001b[A\n",
            "Epoch 15: train_loss=0.71504, test_loss=0.67643, test_acc=0.764:  30%|| 15/50 [05:42<13:15, 22.74s/it]\u001b[A\n",
            "Epoch 16: train_loss=0.70187, test_loss=0.67297, test_acc=0.768:  30%|| 15/50 [06:05<13:15, 22.74s/it]\u001b[A\n",
            "Epoch 16: train_loss=0.70187, test_loss=0.67297, test_acc=0.768:  32%|| 16/50 [06:05<12:54, 22.79s/it]\u001b[A\n",
            "Epoch 17: train_loss=0.69514, test_loss=0.66578, test_acc=0.768:  32%|| 16/50 [06:28<12:54, 22.79s/it]\u001b[A\n",
            "Epoch 17: train_loss=0.69514, test_loss=0.66578, test_acc=0.768:  34%|| 17/50 [06:28<12:31, 22.76s/it]\u001b[A\n",
            "Epoch 18: train_loss=0.69385, test_loss=0.67720, test_acc=0.770:  34%|| 17/50 [06:51<12:31, 22.76s/it]\u001b[A\n",
            "Epoch 18: train_loss=0.69385, test_loss=0.67720, test_acc=0.770:  36%|| 18/50 [06:51<12:10, 22.83s/it]\u001b[A\n",
            "Epoch 19: train_loss=0.68702, test_loss=0.67364, test_acc=0.767:  36%|| 18/50 [07:13<12:10, 22.83s/it]\u001b[A\n",
            "Epoch 19: train_loss=0.68702, test_loss=0.67364, test_acc=0.767:  38%|| 19/50 [07:14<11:47, 22.83s/it]\u001b[A\n",
            "Epoch 20: train_loss=0.68570, test_loss=0.65941, test_acc=0.770:  38%|| 19/50 [07:36<11:47, 22.83s/it]\u001b[A\n",
            "Epoch 20: train_loss=0.68570, test_loss=0.65941, test_acc=0.770:  40%|| 20/50 [07:36<11:23, 22.80s/it]\u001b[A\n",
            "Epoch 21: train_loss=0.67964, test_loss=0.65425, test_acc=0.771:  40%|| 20/50 [07:59<11:23, 22.80s/it]\u001b[A\n",
            "Epoch 21: train_loss=0.67964, test_loss=0.65425, test_acc=0.771:  42%|| 21/50 [07:59<11:01, 22.82s/it]\u001b[A\n",
            "Epoch 22: train_loss=0.67582, test_loss=0.64828, test_acc=0.778:  42%|| 21/50 [08:22<11:01, 22.82s/it]\u001b[A\n",
            "Epoch 22: train_loss=0.67582, test_loss=0.64828, test_acc=0.778:  44%|| 22/50 [08:22<10:37, 22.78s/it]\u001b[A\n",
            "Epoch 23: train_loss=0.67128, test_loss=0.65903, test_acc=0.773:  44%|| 22/50 [08:45<10:37, 22.78s/it]\u001b[A\n",
            "Epoch 23: train_loss=0.67128, test_loss=0.65903, test_acc=0.773:  46%|| 23/50 [08:45<10:16, 22.83s/it]\u001b[A\n",
            "Epoch 24: train_loss=0.66374, test_loss=0.64536, test_acc=0.776:  46%|| 23/50 [09:07<10:16, 22.83s/it]\u001b[A\n",
            "Epoch 24: train_loss=0.66374, test_loss=0.64536, test_acc=0.776:  48%|| 24/50 [09:07<09:47, 22.60s/it]\u001b[A\n",
            "Epoch 25: train_loss=0.66535, test_loss=0.64238, test_acc=0.780:  48%|| 24/50 [09:30<09:47, 22.60s/it]\u001b[A\n",
            "Epoch 25: train_loss=0.66535, test_loss=0.64238, test_acc=0.780:  50%|| 25/50 [09:30<09:26, 22.66s/it]\u001b[A\n",
            "Epoch 26: train_loss=0.66485, test_loss=0.65035, test_acc=0.775:  50%|| 25/50 [09:52<09:26, 22.66s/it]\u001b[A\n",
            "Epoch 26: train_loss=0.66485, test_loss=0.65035, test_acc=0.775:  52%|| 26/50 [09:52<09:04, 22.69s/it]\u001b[A\n",
            "Epoch 27: train_loss=0.66295, test_loss=0.65153, test_acc=0.776:  52%|| 26/50 [10:15<09:04, 22.69s/it]\u001b[A\n",
            "Epoch 27: train_loss=0.66295, test_loss=0.65153, test_acc=0.776:  54%|| 27/50 [10:15<08:42, 22.73s/it]\u001b[A\n",
            "Epoch 28: train_loss=0.66450, test_loss=0.64057, test_acc=0.776:  54%|| 27/50 [10:38<08:42, 22.73s/it]\u001b[A\n",
            "Epoch 28: train_loss=0.66450, test_loss=0.64057, test_acc=0.776:  56%|| 28/50 [10:38<08:21, 22.80s/it]\u001b[A\n",
            "Epoch 29: train_loss=0.65885, test_loss=0.64776, test_acc=0.772:  56%|| 28/50 [11:01<08:21, 22.80s/it]\u001b[A\n",
            "Epoch 29: train_loss=0.65885, test_loss=0.64776, test_acc=0.772:  58%|| 29/50 [11:01<07:59, 22.84s/it]\u001b[A\n",
            "Epoch 30: train_loss=0.66062, test_loss=0.64036, test_acc=0.779:  58%|| 29/50 [11:24<07:59, 22.84s/it]\u001b[A\n",
            "Epoch 30: train_loss=0.66062, test_loss=0.64036, test_acc=0.779:  60%|| 30/50 [11:24<07:39, 22.98s/it]\u001b[A\n",
            "Epoch 31: train_loss=0.65378, test_loss=0.63886, test_acc=0.780:  60%|| 30/50 [11:47<07:39, 22.98s/it]\u001b[A\n",
            "Epoch 31: train_loss=0.65378, test_loss=0.63886, test_acc=0.780:  62%|| 31/50 [11:47<07:12, 22.78s/it]\u001b[A\n",
            "Epoch 32: train_loss=0.65052, test_loss=0.63591, test_acc=0.779:  62%|| 31/50 [12:09<07:12, 22.78s/it]\u001b[A\n",
            "Epoch 32: train_loss=0.65052, test_loss=0.63591, test_acc=0.779:  64%|| 32/50 [12:09<06:49, 22.76s/it]\u001b[A\n",
            "Epoch 33: train_loss=0.65538, test_loss=0.64635, test_acc=0.778:  64%|| 32/50 [12:32<06:49, 22.76s/it]\u001b[A\n",
            "Epoch 33: train_loss=0.65538, test_loss=0.64635, test_acc=0.778:  66%|| 33/50 [12:32<06:27, 22.82s/it]\u001b[A\n",
            "Epoch 34: train_loss=0.65698, test_loss=0.64247, test_acc=0.779:  66%|| 33/50 [12:55<06:27, 22.82s/it]\u001b[A\n",
            "Epoch 34: train_loss=0.65698, test_loss=0.64247, test_acc=0.779:  68%|| 34/50 [12:55<06:04, 22.78s/it]\u001b[A\n",
            "Epoch 35: train_loss=0.65706, test_loss=0.63744, test_acc=0.782:  68%|| 34/50 [13:18<06:04, 22.78s/it]\u001b[A\n",
            "Epoch 35: train_loss=0.65706, test_loss=0.63744, test_acc=0.782:  70%|| 35/50 [13:18<05:41, 22.80s/it]\u001b[A\n",
            "Epoch 36: train_loss=0.65092, test_loss=0.64293, test_acc=0.781:  70%|| 35/50 [13:40<05:41, 22.80s/it]\u001b[A\n",
            "Epoch 36: train_loss=0.65092, test_loss=0.64293, test_acc=0.781:  72%|| 36/50 [13:40<05:17, 22.69s/it]\u001b[A\n",
            "Epoch 37: train_loss=0.65164, test_loss=0.63277, test_acc=0.785:  72%|| 36/50 [14:03<05:17, 22.69s/it]\u001b[A\n",
            "Epoch 37: train_loss=0.65164, test_loss=0.63277, test_acc=0.785:  74%|| 37/50 [14:03<04:54, 22.67s/it]\u001b[A\n",
            "Epoch 38: train_loss=0.65260, test_loss=0.63901, test_acc=0.778:  74%|| 37/50 [14:26<04:54, 22.67s/it]\u001b[A\n",
            "Epoch 38: train_loss=0.65260, test_loss=0.63901, test_acc=0.778:  76%|| 38/50 [14:26<04:32, 22.67s/it]\u001b[A\n",
            "Epoch 39: train_loss=0.64652, test_loss=0.63840, test_acc=0.780:  76%|| 38/50 [14:48<04:32, 22.67s/it]\u001b[A\n",
            "Epoch 39: train_loss=0.64652, test_loss=0.63840, test_acc=0.780:  78%|| 39/50 [14:48<04:09, 22.72s/it]\u001b[A\n",
            "Epoch 40: train_loss=0.64944, test_loss=0.63422, test_acc=0.786:  78%|| 39/50 [15:11<04:09, 22.72s/it]\u001b[A\n",
            "Epoch 40: train_loss=0.64944, test_loss=0.63422, test_acc=0.786:  80%|| 40/50 [15:11<03:47, 22.79s/it]\u001b[A\n",
            "Epoch 41: train_loss=0.65061, test_loss=0.64236, test_acc=0.779:  80%|| 40/50 [15:35<03:47, 22.79s/it]\u001b[A\n",
            "Epoch 41: train_loss=0.65061, test_loss=0.64236, test_acc=0.779:  82%|| 41/50 [15:35<03:28, 23.17s/it]\u001b[A\n",
            "Epoch 42: train_loss=0.65330, test_loss=0.64652, test_acc=0.774:  82%|| 41/50 [15:58<03:28, 23.17s/it]\u001b[A\n",
            "Epoch 42: train_loss=0.65330, test_loss=0.64652, test_acc=0.774:  84%|| 42/50 [15:58<03:04, 23.03s/it]\u001b[A\n",
            "Epoch 43: train_loss=0.64774, test_loss=0.64288, test_acc=0.775:  84%|| 42/50 [16:20<03:04, 23.03s/it]\u001b[A\n",
            "Epoch 43: train_loss=0.64774, test_loss=0.64288, test_acc=0.775:  86%|| 43/50 [16:20<02:39, 22.78s/it]\u001b[A\n",
            "Epoch 44: train_loss=0.65277, test_loss=0.64445, test_acc=0.779:  86%|| 43/50 [16:43<02:39, 22.78s/it]\u001b[A\n",
            "Epoch 44: train_loss=0.65277, test_loss=0.64445, test_acc=0.779:  88%|| 44/50 [16:43<02:16, 22.83s/it]\u001b[A\n",
            "Epoch 45: train_loss=0.64937, test_loss=0.63356, test_acc=0.784:  88%|| 44/50 [17:06<02:16, 22.83s/it]\u001b[A\n",
            "Epoch 45: train_loss=0.64937, test_loss=0.63356, test_acc=0.784:  90%|| 45/50 [17:06<01:54, 22.81s/it]\u001b[A\n",
            "Epoch 46: train_loss=0.65318, test_loss=0.63874, test_acc=0.781:  90%|| 45/50 [17:29<01:54, 22.81s/it]\u001b[A\n",
            "Epoch 46: train_loss=0.65318, test_loss=0.63874, test_acc=0.781:  92%|| 46/50 [17:29<01:31, 22.80s/it]\u001b[A\n",
            "Epoch 47: train_loss=0.64935, test_loss=0.63048, test_acc=0.784:  92%|| 46/50 [17:52<01:31, 22.80s/it]\u001b[A\n",
            "Epoch 47: train_loss=0.64935, test_loss=0.63048, test_acc=0.784:  94%|| 47/50 [17:52<01:08, 22.81s/it]\u001b[A\n",
            "Epoch 48: train_loss=0.65197, test_loss=0.63617, test_acc=0.785:  94%|| 47/50 [18:15<01:08, 22.81s/it]\u001b[A\n",
            "Epoch 48: train_loss=0.65197, test_loss=0.63617, test_acc=0.785:  96%|| 48/50 [18:15<00:45, 22.83s/it]\u001b[A\n",
            "Epoch 49: train_loss=0.64773, test_loss=0.63568, test_acc=0.782:  96%|| 48/50 [18:37<00:45, 22.83s/it]\u001b[A\n",
            "Epoch 49: train_loss=0.64773, test_loss=0.63568, test_acc=0.782:  98%|| 49/50 [18:37<00:22, 22.64s/it]\u001b[A\n",
            "Epoch 50: train_loss=0.64752, test_loss=0.63334, test_acc=0.779:  98%|| 49/50 [19:00<00:22, 22.64s/it]\u001b[A\n",
            "Epoch 50: train_loss=0.64752, test_loss=0.63334, test_acc=0.779: 100%|| 50/50 [19:00<00:00, 22.80s/it]\n"
          ]
        },
        {
          "output_type": "stream",
          "name": "stdout",
          "text": [
            "[I 2023-06-08 17:26:54,977] Trial 10 finished with value: 0.7795 and parameters: {'lr': 0.000548541323432575, 'optimizer': 'Adam'}. Best is trial 0 with value: 0.8009.\n",
            "Optuna current parameters: [('lr', 0.0029385778099368853), ('optimizer_name', 'Adam')]\n"
          ]
        },
        {
          "output_type": "stream",
          "name": "stderr",
          "text": [
            "\n",
            "Epoch X: train_loss=X, dev_loss=X, dev_acc=X:   0%|| 0/50 [00:00<?, ?it/s]\u001b[A\n",
            "Epoch 1: train_loss=1.76448, test_loss=1.53824, test_acc=0.454:   0%|| 0/50 [00:22<?, ?it/s]\n"
          ]
        },
        {
          "output_type": "stream",
          "name": "stdout",
          "text": [
            "[I 2023-06-08 17:27:17,732] Trial 11 pruned. \n",
            "Optuna current parameters: [('lr', 0.003238651582345475), ('optimizer_name', 'AdamW')]\n"
          ]
        },
        {
          "output_type": "stream",
          "name": "stderr",
          "text": [
            "\n",
            "Epoch X: train_loss=X, dev_loss=X, dev_acc=X:   0%|| 0/50 [00:00<?, ?it/s]\u001b[A\n",
            "Epoch 1: train_loss=1.71587, test_loss=1.42998, test_acc=0.494:   0%|| 0/50 [00:23<?, ?it/s]\n"
          ]
        },
        {
          "output_type": "stream",
          "name": "stdout",
          "text": [
            "[I 2023-06-08 17:27:41,584] Trial 12 pruned. \n",
            "Optuna current parameters: [('lr', 0.0011532590493592385), ('optimizer_name', 'Adam')]\n"
          ]
        },
        {
          "output_type": "stream",
          "name": "stderr",
          "text": [
            "\n",
            "Epoch X: train_loss=X, dev_loss=X, dev_acc=X:   0%|| 0/50 [00:00<?, ?it/s]\u001b[A\n",
            "Epoch 1: train_loss=1.65020, test_loss=1.47210, test_acc=0.499:   0%|| 0/50 [00:22<?, ?it/s]\n"
          ]
        },
        {
          "output_type": "stream",
          "name": "stdout",
          "text": [
            "[I 2023-06-08 17:28:04,392] Trial 13 pruned. \n",
            "Optuna current parameters: [('lr', 0.004021592396297223), ('optimizer_name', 'AdamW')]\n"
          ]
        },
        {
          "output_type": "stream",
          "name": "stderr",
          "text": [
            "\n",
            "Epoch X: train_loss=X, dev_loss=X, dev_acc=X:   0%|| 0/50 [00:00<?, ?it/s]\u001b[A\n",
            "Epoch 1: train_loss=1.99889, test_loss=1.66363, test_acc=0.414:   0%|| 0/50 [00:22<?, ?it/s]\n"
          ]
        },
        {
          "output_type": "stream",
          "name": "stdout",
          "text": [
            "[I 2023-06-08 17:28:26,988] Trial 14 pruned. \n",
            "Optuna current parameters: [('lr', 0.0022085771405188797), ('optimizer_name', 'Adam')]\n"
          ]
        },
        {
          "output_type": "stream",
          "name": "stderr",
          "text": [
            "\n",
            "Epoch X: train_loss=X, dev_loss=X, dev_acc=X:   0%|| 0/50 [00:00<?, ?it/s]\u001b[A\n",
            "Epoch 1: train_loss=1.68765, test_loss=1.43857, test_acc=0.492:   0%|| 0/50 [00:22<?, ?it/s]\n"
          ]
        },
        {
          "output_type": "stream",
          "name": "stdout",
          "text": [
            "[I 2023-06-08 17:28:49,584] Trial 15 pruned. \n",
            "Optuna current parameters: [('lr', 0.005087237273563544), ('optimizer_name', 'AdamW')]\n"
          ]
        },
        {
          "output_type": "stream",
          "name": "stderr",
          "text": [
            "\n",
            "Epoch X: train_loss=X, dev_loss=X, dev_acc=X:   0%|| 0/50 [00:00<?, ?it/s]\u001b[A\n",
            "Epoch 1: train_loss=1.93968, test_loss=1.75966, test_acc=0.398:   0%|| 0/50 [00:22<?, ?it/s]\n"
          ]
        },
        {
          "output_type": "stream",
          "name": "stdout",
          "text": [
            "[I 2023-06-08 17:29:12,596] Trial 16 pruned. \n",
            "Optuna current parameters: [('lr', 0.009534238046659886), ('optimizer_name', 'Adam')]\n"
          ]
        },
        {
          "output_type": "stream",
          "name": "stderr",
          "text": [
            "\n",
            "Epoch X: train_loss=X, dev_loss=X, dev_acc=X:   0%|| 0/50 [00:00<?, ?it/s]\u001b[A\n",
            "Epoch 1: train_loss=2.25680, test_loss=1.82608, test_acc=0.361:   0%|| 0/50 [00:22<?, ?it/s]\n"
          ]
        },
        {
          "output_type": "stream",
          "name": "stdout",
          "text": [
            "[I 2023-06-08 17:29:35,423] Trial 17 pruned. \n",
            "Optuna current parameters: [('lr', 0.002852735331637197), ('optimizer_name', 'AdamW')]\n"
          ]
        },
        {
          "output_type": "stream",
          "name": "stderr",
          "text": [
            "\n",
            "Epoch X: train_loss=X, dev_loss=X, dev_acc=X:   0%|| 0/50 [00:00<?, ?it/s]\u001b[A\n",
            "Epoch 1: train_loss=1.80798, test_loss=1.50777, test_acc=0.458:   0%|| 0/50 [00:22<?, ?it/s]\n"
          ]
        },
        {
          "output_type": "stream",
          "name": "stdout",
          "text": [
            "[I 2023-06-08 17:29:58,381] Trial 18 pruned. \n",
            "Optuna current parameters: [('lr', 0.0012725449417487144), ('optimizer_name', 'SGD')]\n"
          ]
        },
        {
          "output_type": "stream",
          "name": "stderr",
          "text": [
            "\n",
            "Epoch X: train_loss=X, dev_loss=X, dev_acc=X:   0%|| 0/50 [00:00<?, ?it/s]\u001b[A\n",
            "Epoch 1: train_loss=2.30269, test_loss=2.17538, test_acc=0.202:   0%|| 0/50 [00:22<?, ?it/s]\n"
          ]
        },
        {
          "output_type": "stream",
          "name": "stdout",
          "text": [
            "[I 2023-06-08 17:30:21,077] Trial 19 pruned. \n",
            "--> Optuna study statistics <--\n",
            "Number of finished trials:  20\n",
            "Number of pruned trials:  13\n",
            "Number of complete trials:  7\n",
            "Best trial:\n",
            "Value: 0.8009\n",
            "Params:\n",
            "lr: 0.00304135145969802\n",
            "optimizer: Adam\n"
          ]
        }
      ]
    }
  ]
}